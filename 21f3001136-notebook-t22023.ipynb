{
 "cells": [
  {
   "cell_type": "code",
   "execution_count": 1,
   "id": "aa1c3df0",
   "metadata": {
    "_cell_guid": "b1076dfc-b9ad-4769-8c92-a6c4dae69d19",
    "_uuid": "8f2839f25d086af736a60e9eeb907d3b93b6e0e5",
    "execution": {
     "iopub.execute_input": "2023-08-13T11:04:41.364538Z",
     "iopub.status.busy": "2023-08-13T11:04:41.363896Z",
     "iopub.status.idle": "2023-08-13T11:04:41.383949Z",
     "shell.execute_reply": "2023-08-13T11:04:41.382495Z"
    },
    "papermill": {
     "duration": 0.058616,
     "end_time": "2023-08-13T11:04:41.387062",
     "exception": false,
     "start_time": "2023-08-13T11:04:41.328446",
     "status": "completed"
    },
    "tags": []
   },
   "outputs": [
    {
     "name": "stdout",
     "output_type": "stream",
     "text": [
      "/kaggle/input/sentiment-prediction-on-movie-reviews/movies.csv\n",
      "/kaggle/input/sentiment-prediction-on-movie-reviews/sample.csv\n",
      "/kaggle/input/sentiment-prediction-on-movie-reviews/train.csv\n",
      "/kaggle/input/sentiment-prediction-on-movie-reviews/test.csv\n"
     ]
    }
   ],
   "source": [
    "# This Python 3 environment comes with many helpful analytics libraries installed\n",
    "# It is defined by the kaggle/python Docker image: https://github.com/kaggle/docker-python\n",
    "# For example, here's several helpful packages to load\n",
    "\n",
    "import numpy as np # linear algebra\n",
    "import pandas as pd # data processing, CSV file I/O (e.g. pd.read_csv)\n",
    "\n",
    "# Input data files are available in the read-only \"../input/\" directory\n",
    "# For example, running this (by clicking run or pressing Shift+Enter) will list all files under the input directory\n",
    "\n",
    "import os\n",
    "for dirname, _, filenames in os.walk('/kaggle/input'):\n",
    "    for filename in filenames:\n",
    "        print(os.path.join(dirname, filename))\n",
    "\n",
    "# You can write up to 20GB to the current directory (/kaggle/working/) that gets preserved as output when you create a version using \"Save & Run All\" \n",
    "# You can also write temporary files to /kaggle/temp/, but they won't be saved outside of the current session"
   ]
  },
  {
   "cell_type": "markdown",
   "id": "8a4f1af0",
   "metadata": {
    "papermill": {
     "duration": 0.022487,
     "end_time": "2023-08-13T11:04:41.438901",
     "exception": false,
     "start_time": "2023-08-13T11:04:41.416414",
     "status": "completed"
    },
    "tags": []
   },
   "source": [
    "### Import necessary libraries"
   ]
  },
  {
   "cell_type": "code",
   "execution_count": 2,
   "id": "636fb796",
   "metadata": {
    "execution": {
     "iopub.execute_input": "2023-08-13T11:04:41.485955Z",
     "iopub.status.busy": "2023-08-13T11:04:41.485468Z",
     "iopub.status.idle": "2023-08-13T11:04:43.378561Z",
     "shell.execute_reply": "2023-08-13T11:04:43.376871Z"
    },
    "papermill": {
     "duration": 1.920559,
     "end_time": "2023-08-13T11:04:43.381829",
     "exception": false,
     "start_time": "2023-08-13T11:04:41.461270",
     "status": "completed"
    },
    "tags": []
   },
   "outputs": [],
   "source": [
    "import matplotlib.pyplot as plt\n",
    "import seaborn as sns\n",
    "import numpy as np\n",
    "import pandas as pd\n",
    "import sklearn\n",
    "import re"
   ]
  },
  {
   "cell_type": "markdown",
   "id": "8304041c",
   "metadata": {
    "papermill": {
     "duration": 0.022567,
     "end_time": "2023-08-13T11:04:43.427096",
     "exception": false,
     "start_time": "2023-08-13T11:04:43.404529",
     "status": "completed"
    },
    "tags": []
   },
   "source": [
    "### Laoding the required data as dataframe"
   ]
  },
  {
   "cell_type": "code",
   "execution_count": 3,
   "id": "61d487b2",
   "metadata": {
    "execution": {
     "iopub.execute_input": "2023-08-13T11:04:43.473798Z",
     "iopub.status.busy": "2023-08-13T11:04:43.473345Z",
     "iopub.status.idle": "2023-08-13T11:04:46.054760Z",
     "shell.execute_reply": "2023-08-13T11:04:46.053388Z"
    },
    "papermill": {
     "duration": 2.608249,
     "end_time": "2023-08-13T11:04:46.057857",
     "exception": false,
     "start_time": "2023-08-13T11:04:43.449608",
     "status": "completed"
    },
    "tags": []
   },
   "outputs": [],
   "source": [
    "\n",
    "movies = pd.read_csv(\"/kaggle/input/sentiment-prediction-on-movie-reviews/movies.csv\")\n",
    "test = pd.read_csv(\"/kaggle/input/sentiment-prediction-on-movie-reviews/test.csv\")\n",
    "train = pd.read_csv(\"/kaggle/input/sentiment-prediction-on-movie-reviews/train.csv\")\n",
    "sample = pd.read_csv(\"/kaggle/input/sentiment-prediction-on-movie-reviews/sample.csv\")\n"
   ]
  },
  {
   "cell_type": "markdown",
   "id": "26559642",
   "metadata": {
    "papermill": {
     "duration": 0.021682,
     "end_time": "2023-08-13T11:04:46.102228",
     "exception": false,
     "start_time": "2023-08-13T11:04:46.080546",
     "status": "completed"
    },
    "tags": []
   },
   "source": [
    "****DATA EXPLORATION****"
   ]
  },
  {
   "cell_type": "code",
   "execution_count": 4,
   "id": "72b03f7a",
   "metadata": {
    "execution": {
     "iopub.execute_input": "2023-08-13T11:04:46.148335Z",
     "iopub.status.busy": "2023-08-13T11:04:46.147934Z",
     "iopub.status.idle": "2023-08-13T11:04:46.154017Z",
     "shell.execute_reply": "2023-08-13T11:04:46.152713Z"
    },
    "papermill": {
     "duration": 0.033357,
     "end_time": "2023-08-13T11:04:46.157544",
     "exception": false,
     "start_time": "2023-08-13T11:04:46.124187",
     "status": "completed"
    },
    "tags": []
   },
   "outputs": [
    {
     "name": "stdout",
     "output_type": "stream",
     "text": [
      "movies shape: (143258, 14)\n",
      "train shape: (162758, 5)\n"
     ]
    }
   ],
   "source": [
    "# printing shape of movies data and train data\n",
    "\n",
    "print('movies shape:',movies.shape)\n",
    "print('train shape:',train.shape)"
   ]
  },
  {
   "cell_type": "code",
   "execution_count": 5,
   "id": "0ca45a8b",
   "metadata": {
    "execution": {
     "iopub.execute_input": "2023-08-13T11:04:46.205793Z",
     "iopub.status.busy": "2023-08-13T11:04:46.205170Z",
     "iopub.status.idle": "2023-08-13T11:04:46.211067Z",
     "shell.execute_reply": "2023-08-13T11:04:46.210057Z"
    },
    "papermill": {
     "duration": 0.033394,
     "end_time": "2023-08-13T11:04:46.213727",
     "exception": false,
     "start_time": "2023-08-13T11:04:46.180333",
     "status": "completed"
    },
    "tags": []
   },
   "outputs": [
    {
     "name": "stdout",
     "output_type": "stream",
     "text": [
      "movies cols : Index(['movieid', 'title', 'audienceScore', 'rating', 'ratingContents',\n",
      "       'releaseDateTheaters', 'releaseDateStreaming', 'runtimeMinutes',\n",
      "       'genre', 'originalLanguage', 'director', 'boxOffice', 'distributor',\n",
      "       'soundType'],\n",
      "      dtype='object') \n",
      "\n",
      "train cols : Index(['movieid', 'reviewerName', 'isFrequentReviewer', 'reviewText',\n",
      "       'sentiment'],\n",
      "      dtype='object')\n"
     ]
    }
   ],
   "source": [
    "# checking colums of movies and train data to see the common column\n",
    "\n",
    "print('movies cols :',movies.columns,'\\n')\n",
    "print('train cols :',train.columns)\n",
    "\n",
    "# only movieid column is common in both the dat sets"
   ]
  },
  {
   "cell_type": "code",
   "execution_count": 6,
   "id": "72e15c69",
   "metadata": {
    "execution": {
     "iopub.execute_input": "2023-08-13T11:04:46.260828Z",
     "iopub.status.busy": "2023-08-13T11:04:46.260336Z",
     "iopub.status.idle": "2023-08-13T11:04:46.800903Z",
     "shell.execute_reply": "2023-08-13T11:04:46.799497Z"
    },
    "papermill": {
     "duration": 0.567248,
     "end_time": "2023-08-13T11:04:46.803731",
     "exception": false,
     "start_time": "2023-08-13T11:04:46.236483",
     "status": "completed"
    },
    "tags": []
   },
   "outputs": [
    {
     "name": "stdout",
     "output_type": "stream",
     "text": [
      "<class 'pandas.core.frame.DataFrame'>\n",
      "RangeIndex: 143258 entries, 0 to 143257\n",
      "Data columns (total 14 columns):\n",
      " #   Column                Non-Null Count   Dtype  \n",
      "---  ------                --------------   -----  \n",
      " 0   movieid               143258 non-null  object \n",
      " 1   title                 143258 non-null  object \n",
      " 2   audienceScore         73248 non-null   float64\n",
      " 3   rating                13991 non-null   object \n",
      " 4   ratingContents        13991 non-null   object \n",
      " 5   releaseDateTheaters   30773 non-null   object \n",
      " 6   releaseDateStreaming  79420 non-null   object \n",
      " 7   runtimeMinutes        129431 non-null  float64\n",
      " 8   genre                 132175 non-null  object \n",
      " 9   originalLanguage      129400 non-null  object \n",
      " 10  director              143258 non-null  object \n",
      " 11  boxOffice             14743 non-null   object \n",
      " 12  distributor           23005 non-null   object \n",
      " 13  soundType             15917 non-null   object \n",
      "dtypes: float64(2), object(12)\n",
      "memory usage: 15.3+ MB\n"
     ]
    }
   ],
   "source": [
    "# checking the type of colums in movies data\n",
    "movies.info()"
   ]
  },
  {
   "cell_type": "code",
   "execution_count": 7,
   "id": "f69157d9",
   "metadata": {
    "execution": {
     "iopub.execute_input": "2023-08-13T11:04:46.851968Z",
     "iopub.status.busy": "2023-08-13T11:04:46.851338Z",
     "iopub.status.idle": "2023-08-13T11:04:47.607706Z",
     "shell.execute_reply": "2023-08-13T11:04:47.606518Z"
    },
    "papermill": {
     "duration": 0.784501,
     "end_time": "2023-08-13T11:04:47.610953",
     "exception": false,
     "start_time": "2023-08-13T11:04:46.826452",
     "status": "completed"
    },
    "tags": []
   },
   "outputs": [
    {
     "name": "stdout",
     "output_type": "stream",
     "text": [
      "total duplicate rows in movies ; 1571 \n",
      "\n"
     ]
    },
    {
     "data": {
      "text/html": [
       "<div>\n",
       "<style scoped>\n",
       "    .dataframe tbody tr th:only-of-type {\n",
       "        vertical-align: middle;\n",
       "    }\n",
       "\n",
       "    .dataframe tbody tr th {\n",
       "        vertical-align: top;\n",
       "    }\n",
       "\n",
       "    .dataframe thead th {\n",
       "        text-align: right;\n",
       "    }\n",
       "</style>\n",
       "<table border=\"1\" class=\"dataframe\">\n",
       "  <thead>\n",
       "    <tr style=\"text-align: right;\">\n",
       "      <th></th>\n",
       "      <th>movieid</th>\n",
       "      <th>title</th>\n",
       "      <th>audienceScore</th>\n",
       "      <th>rating</th>\n",
       "      <th>ratingContents</th>\n",
       "      <th>releaseDateTheaters</th>\n",
       "      <th>releaseDateStreaming</th>\n",
       "      <th>runtimeMinutes</th>\n",
       "      <th>genre</th>\n",
       "      <th>originalLanguage</th>\n",
       "      <th>director</th>\n",
       "      <th>boxOffice</th>\n",
       "      <th>distributor</th>\n",
       "      <th>soundType</th>\n",
       "    </tr>\n",
       "  </thead>\n",
       "  <tbody>\n",
       "    <tr>\n",
       "      <th>1126</th>\n",
       "      <td>escape_the_terminator_tyler_durden_astonish</td>\n",
       "      <td>Escape The Terminator Tyler Durden Astonish</td>\n",
       "      <td>NaN</td>\n",
       "      <td>NaN</td>\n",
       "      <td>NaN</td>\n",
       "      <td>NaN</td>\n",
       "      <td>NaN</td>\n",
       "      <td>NaN</td>\n",
       "      <td>NaN</td>\n",
       "      <td>NaN</td>\n",
       "      <td>Joseph Brooks</td>\n",
       "      <td>NaN</td>\n",
       "      <td>NaN</td>\n",
       "      <td>NaN</td>\n",
       "    </tr>\n",
       "    <tr>\n",
       "      <th>3772</th>\n",
       "      <td>supreme_indiana_jones</td>\n",
       "      <td>Supreme Indiana Jones</td>\n",
       "      <td>NaN</td>\n",
       "      <td>NaN</td>\n",
       "      <td>NaN</td>\n",
       "      <td>NaN</td>\n",
       "      <td>NaN</td>\n",
       "      <td>NaN</td>\n",
       "      <td>NaN</td>\n",
       "      <td>NaN</td>\n",
       "      <td>Augusta Daniel</td>\n",
       "      <td>NaN</td>\n",
       "      <td>NaN</td>\n",
       "      <td>NaN</td>\n",
       "    </tr>\n",
       "    <tr>\n",
       "      <th>5048</th>\n",
       "      <td>escape_the_terminator_tyler_durden_astonish</td>\n",
       "      <td>Escape The Terminator Tyler Durden Astonish</td>\n",
       "      <td>NaN</td>\n",
       "      <td>NaN</td>\n",
       "      <td>NaN</td>\n",
       "      <td>NaN</td>\n",
       "      <td>NaN</td>\n",
       "      <td>NaN</td>\n",
       "      <td>NaN</td>\n",
       "      <td>NaN</td>\n",
       "      <td>Joseph Brooks</td>\n",
       "      <td>NaN</td>\n",
       "      <td>NaN</td>\n",
       "      <td>NaN</td>\n",
       "    </tr>\n",
       "    <tr>\n",
       "      <th>7364</th>\n",
       "      <td>escape_the_terminator_tyler_durden_astonish</td>\n",
       "      <td>Escape The Terminator Tyler Durden Astonish</td>\n",
       "      <td>NaN</td>\n",
       "      <td>NaN</td>\n",
       "      <td>NaN</td>\n",
       "      <td>NaN</td>\n",
       "      <td>NaN</td>\n",
       "      <td>NaN</td>\n",
       "      <td>NaN</td>\n",
       "      <td>NaN</td>\n",
       "      <td>Joseph Brooks</td>\n",
       "      <td>NaN</td>\n",
       "      <td>NaN</td>\n",
       "      <td>NaN</td>\n",
       "    </tr>\n",
       "    <tr>\n",
       "      <th>8012</th>\n",
       "      <td>holly_golightly_enthralling</td>\n",
       "      <td>Holly Golightly Enthralling</td>\n",
       "      <td>NaN</td>\n",
       "      <td>NaN</td>\n",
       "      <td>NaN</td>\n",
       "      <td>NaN</td>\n",
       "      <td>NaN</td>\n",
       "      <td>NaN</td>\n",
       "      <td>NaN</td>\n",
       "      <td>NaN</td>\n",
       "      <td>Augusta Daniel</td>\n",
       "      <td>NaN</td>\n",
       "      <td>NaN</td>\n",
       "      <td>NaN</td>\n",
       "    </tr>\n",
       "    <tr>\n",
       "      <th>...</th>\n",
       "      <td>...</td>\n",
       "      <td>...</td>\n",
       "      <td>...</td>\n",
       "      <td>...</td>\n",
       "      <td>...</td>\n",
       "      <td>...</td>\n",
       "      <td>...</td>\n",
       "      <td>...</td>\n",
       "      <td>...</td>\n",
       "      <td>...</td>\n",
       "      <td>...</td>\n",
       "      <td>...</td>\n",
       "      <td>...</td>\n",
       "      <td>...</td>\n",
       "    </tr>\n",
       "    <tr>\n",
       "      <th>140598</th>\n",
       "      <td>cosmic_jack_torrance_ellis_redding_indiana_jones</td>\n",
       "      <td>Cosmic Jack Torrance Ellis Redding Indiana Jones</td>\n",
       "      <td>NaN</td>\n",
       "      <td>NaN</td>\n",
       "      <td>NaN</td>\n",
       "      <td>NaN</td>\n",
       "      <td>NaN</td>\n",
       "      <td>NaN</td>\n",
       "      <td>NaN</td>\n",
       "      <td>NaN</td>\n",
       "      <td>Augusta Daniel</td>\n",
       "      <td>NaN</td>\n",
       "      <td>NaN</td>\n",
       "      <td>NaN</td>\n",
       "    </tr>\n",
       "    <tr>\n",
       "      <th>140654</th>\n",
       "      <td>the_bride_hannibal_lecter_enigma_black_widow</td>\n",
       "      <td>The Bride Hannibal Lecter Enigma Black Widow</td>\n",
       "      <td>NaN</td>\n",
       "      <td>NaN</td>\n",
       "      <td>NaN</td>\n",
       "      <td>NaN</td>\n",
       "      <td>NaN</td>\n",
       "      <td>89.0</td>\n",
       "      <td>Drama</td>\n",
       "      <td>English</td>\n",
       "      <td>Raul Glover</td>\n",
       "      <td>NaN</td>\n",
       "      <td>NaN</td>\n",
       "      <td>NaN</td>\n",
       "    </tr>\n",
       "    <tr>\n",
       "      <th>141470</th>\n",
       "      <td>wolverine_tony_montana_wolverine</td>\n",
       "      <td>Wolverine Tony Montana Wolverine</td>\n",
       "      <td>NaN</td>\n",
       "      <td>NaN</td>\n",
       "      <td>NaN</td>\n",
       "      <td>NaN</td>\n",
       "      <td>NaN</td>\n",
       "      <td>NaN</td>\n",
       "      <td>NaN</td>\n",
       "      <td>NaN</td>\n",
       "      <td>Augusta Daniel</td>\n",
       "      <td>NaN</td>\n",
       "      <td>NaN</td>\n",
       "      <td>NaN</td>\n",
       "    </tr>\n",
       "    <tr>\n",
       "      <th>142468</th>\n",
       "      <td>escape_the_terminator_tyler_durden_astonish</td>\n",
       "      <td>Escape The Terminator Tyler Durden Astonish</td>\n",
       "      <td>NaN</td>\n",
       "      <td>NaN</td>\n",
       "      <td>NaN</td>\n",
       "      <td>NaN</td>\n",
       "      <td>NaN</td>\n",
       "      <td>NaN</td>\n",
       "      <td>NaN</td>\n",
       "      <td>NaN</td>\n",
       "      <td>Joseph Brooks</td>\n",
       "      <td>NaN</td>\n",
       "      <td>NaN</td>\n",
       "      <td>NaN</td>\n",
       "    </tr>\n",
       "    <tr>\n",
       "      <th>143139</th>\n",
       "      <td>quest_rick_blaine_wonder_jason_bourne</td>\n",
       "      <td>Quest Rick Blaine Wonder Jason Bourne</td>\n",
       "      <td>NaN</td>\n",
       "      <td>NaN</td>\n",
       "      <td>NaN</td>\n",
       "      <td>NaN</td>\n",
       "      <td>NaN</td>\n",
       "      <td>NaN</td>\n",
       "      <td>NaN</td>\n",
       "      <td>NaN</td>\n",
       "      <td>Augusta Daniel</td>\n",
       "      <td>NaN</td>\n",
       "      <td>NaN</td>\n",
       "      <td>NaN</td>\n",
       "    </tr>\n",
       "  </tbody>\n",
       "</table>\n",
       "<p>1571 rows × 14 columns</p>\n",
       "</div>"
      ],
      "text/plain": [
       "                                                 movieid  \\\n",
       "1126         escape_the_terminator_tyler_durden_astonish   \n",
       "3772                               supreme_indiana_jones   \n",
       "5048         escape_the_terminator_tyler_durden_astonish   \n",
       "7364         escape_the_terminator_tyler_durden_astonish   \n",
       "8012                         holly_golightly_enthralling   \n",
       "...                                                  ...   \n",
       "140598  cosmic_jack_torrance_ellis_redding_indiana_jones   \n",
       "140654      the_bride_hannibal_lecter_enigma_black_widow   \n",
       "141470                  wolverine_tony_montana_wolverine   \n",
       "142468       escape_the_terminator_tyler_durden_astonish   \n",
       "143139             quest_rick_blaine_wonder_jason_bourne   \n",
       "\n",
       "                                                   title  audienceScore  \\\n",
       "1126         Escape The Terminator Tyler Durden Astonish            NaN   \n",
       "3772                               Supreme Indiana Jones            NaN   \n",
       "5048         Escape The Terminator Tyler Durden Astonish            NaN   \n",
       "7364         Escape The Terminator Tyler Durden Astonish            NaN   \n",
       "8012                         Holly Golightly Enthralling            NaN   \n",
       "...                                                  ...            ...   \n",
       "140598  Cosmic Jack Torrance Ellis Redding Indiana Jones            NaN   \n",
       "140654      The Bride Hannibal Lecter Enigma Black Widow            NaN   \n",
       "141470                  Wolverine Tony Montana Wolverine            NaN   \n",
       "142468       Escape The Terminator Tyler Durden Astonish            NaN   \n",
       "143139             Quest Rick Blaine Wonder Jason Bourne            NaN   \n",
       "\n",
       "       rating ratingContents releaseDateTheaters releaseDateStreaming  \\\n",
       "1126      NaN            NaN                 NaN                  NaN   \n",
       "3772      NaN            NaN                 NaN                  NaN   \n",
       "5048      NaN            NaN                 NaN                  NaN   \n",
       "7364      NaN            NaN                 NaN                  NaN   \n",
       "8012      NaN            NaN                 NaN                  NaN   \n",
       "...       ...            ...                 ...                  ...   \n",
       "140598    NaN            NaN                 NaN                  NaN   \n",
       "140654    NaN            NaN                 NaN                  NaN   \n",
       "141470    NaN            NaN                 NaN                  NaN   \n",
       "142468    NaN            NaN                 NaN                  NaN   \n",
       "143139    NaN            NaN                 NaN                  NaN   \n",
       "\n",
       "        runtimeMinutes  genre originalLanguage        director boxOffice  \\\n",
       "1126               NaN    NaN              NaN   Joseph Brooks       NaN   \n",
       "3772               NaN    NaN              NaN  Augusta Daniel       NaN   \n",
       "5048               NaN    NaN              NaN   Joseph Brooks       NaN   \n",
       "7364               NaN    NaN              NaN   Joseph Brooks       NaN   \n",
       "8012               NaN    NaN              NaN  Augusta Daniel       NaN   \n",
       "...                ...    ...              ...             ...       ...   \n",
       "140598             NaN    NaN              NaN  Augusta Daniel       NaN   \n",
       "140654            89.0  Drama          English     Raul Glover       NaN   \n",
       "141470             NaN    NaN              NaN  Augusta Daniel       NaN   \n",
       "142468             NaN    NaN              NaN   Joseph Brooks       NaN   \n",
       "143139             NaN    NaN              NaN  Augusta Daniel       NaN   \n",
       "\n",
       "       distributor soundType  \n",
       "1126           NaN       NaN  \n",
       "3772           NaN       NaN  \n",
       "5048           NaN       NaN  \n",
       "7364           NaN       NaN  \n",
       "8012           NaN       NaN  \n",
       "...            ...       ...  \n",
       "140598         NaN       NaN  \n",
       "140654         NaN       NaN  \n",
       "141470         NaN       NaN  \n",
       "142468         NaN       NaN  \n",
       "143139         NaN       NaN  \n",
       "\n",
       "[1571 rows x 14 columns]"
      ]
     },
     "execution_count": 7,
     "metadata": {},
     "output_type": "execute_result"
    }
   ],
   "source": [
    "# checking duplicate rows in movies data if any\n",
    "\n",
    "print('total duplicate rows in movies ;',movies.duplicated().sum(),'\\n')\n",
    "\n",
    "movies[movies.duplicated()]"
   ]
  },
  {
   "cell_type": "code",
   "execution_count": 8,
   "id": "50b15972",
   "metadata": {
    "execution": {
     "iopub.execute_input": "2023-08-13T11:04:47.659468Z",
     "iopub.status.busy": "2023-08-13T11:04:47.659043Z",
     "iopub.status.idle": "2023-08-13T11:04:47.696688Z",
     "shell.execute_reply": "2023-08-13T11:04:47.695179Z"
    },
    "papermill": {
     "duration": 0.064864,
     "end_time": "2023-08-13T11:04:47.699388",
     "exception": false,
     "start_time": "2023-08-13T11:04:47.634524",
     "status": "completed"
    },
    "tags": []
   },
   "outputs": [
    {
     "data": {
      "text/plain": [
       "871         NaN\n",
       "1126        NaN\n",
       "4038      140.0\n",
       "5048        NaN\n",
       "7364        NaN\n",
       "          ...  \n",
       "136493     89.0\n",
       "137235      NaN\n",
       "137815      NaN\n",
       "140080      NaN\n",
       "142468      NaN\n",
       "Name: runtimeMinutes, Length: 367, dtype: float64"
      ]
     },
     "execution_count": 8,
     "metadata": {},
     "output_type": "execute_result"
    }
   ],
   "source": [
    "# checking run time minutes for same movie to see if there is any difference\n",
    "movies[movies['movieid']== 'escape_the_terminator_tyler_durden_astonish']['runtimeMinutes']\n",
    "\n",
    "# conclusion: yes there is difference in run time"
   ]
  },
  {
   "cell_type": "code",
   "execution_count": 9,
   "id": "764f635c",
   "metadata": {
    "execution": {
     "iopub.execute_input": "2023-08-13T11:04:47.748275Z",
     "iopub.status.busy": "2023-08-13T11:04:47.747871Z",
     "iopub.status.idle": "2023-08-13T11:04:48.476883Z",
     "shell.execute_reply": "2023-08-13T11:04:48.475609Z"
    },
    "papermill": {
     "duration": 0.757071,
     "end_time": "2023-08-13T11:04:48.479548",
     "exception": false,
     "start_time": "2023-08-13T11:04:47.722477",
     "status": "completed"
    },
    "tags": []
   },
   "outputs": [
    {
     "data": {
      "text/plain": [
       "0"
      ]
     },
     "execution_count": 9,
     "metadata": {},
     "output_type": "execute_result"
    }
   ],
   "source": [
    "# dropping duplicate rows from the movies data to obtain unique rows\n",
    "\n",
    "movies_uniq = movies.drop_duplicates(keep = 'first', inplace = False)\n",
    "movies_uniq.duplicated().sum()"
   ]
  },
  {
   "cell_type": "code",
   "execution_count": 10,
   "id": "fe488925",
   "metadata": {
    "execution": {
     "iopub.execute_input": "2023-08-13T11:04:48.527626Z",
     "iopub.status.busy": "2023-08-13T11:04:48.527233Z",
     "iopub.status.idle": "2023-08-13T11:04:48.562491Z",
     "shell.execute_reply": "2023-08-13T11:04:48.561271Z"
    },
    "papermill": {
     "duration": 0.062419,
     "end_time": "2023-08-13T11:04:48.565128",
     "exception": false,
     "start_time": "2023-08-13T11:04:48.502709",
     "status": "completed"
    },
    "tags": []
   },
   "outputs": [
    {
     "data": {
      "text/plain": [
       "(141687, 14)"
      ]
     },
     "execution_count": 10,
     "metadata": {},
     "output_type": "execute_result"
    }
   ],
   "source": [
    "# duplicate movie id but with unique attributes such as audience score and runtime\n",
    "\n",
    "movies_uniq.duplicated(['movieid']).sum()\n",
    "movies_uniq.shape"
   ]
  },
  {
   "cell_type": "code",
   "execution_count": 11,
   "id": "0ba59d30",
   "metadata": {
    "execution": {
     "iopub.execute_input": "2023-08-13T11:04:48.614786Z",
     "iopub.status.busy": "2023-08-13T11:04:48.614344Z",
     "iopub.status.idle": "2023-08-13T11:04:49.000105Z",
     "shell.execute_reply": "2023-08-13T11:04:48.998808Z"
    },
    "papermill": {
     "duration": 0.414815,
     "end_time": "2023-08-13T11:04:49.003320",
     "exception": false,
     "start_time": "2023-08-13T11:04:48.588505",
     "status": "completed"
    },
    "tags": []
   },
   "outputs": [
    {
     "data": {
      "text/html": [
       "<div>\n",
       "<style scoped>\n",
       "    .dataframe tbody tr th:only-of-type {\n",
       "        vertical-align: middle;\n",
       "    }\n",
       "\n",
       "    .dataframe tbody tr th {\n",
       "        vertical-align: top;\n",
       "    }\n",
       "\n",
       "    .dataframe thead th {\n",
       "        text-align: right;\n",
       "    }\n",
       "</style>\n",
       "<table border=\"1\" class=\"dataframe\">\n",
       "  <thead>\n",
       "    <tr style=\"text-align: right;\">\n",
       "      <th></th>\n",
       "      <th>audienceScore</th>\n",
       "      <th>runtimeMinutes</th>\n",
       "    </tr>\n",
       "    <tr>\n",
       "      <th>movieid</th>\n",
       "      <th></th>\n",
       "      <th></th>\n",
       "    </tr>\n",
       "  </thead>\n",
       "  <tbody>\n",
       "    <tr>\n",
       "      <th>adventure_anakin_skywalker</th>\n",
       "      <td>49.0</td>\n",
       "      <td>96.0</td>\n",
       "    </tr>\n",
       "    <tr>\n",
       "      <th>adventure_anakin_skywalker_chronicles_whisper</th>\n",
       "      <td>NaN</td>\n",
       "      <td>90.0</td>\n",
       "    </tr>\n",
       "    <tr>\n",
       "      <th>adventure_astonish</th>\n",
       "      <td>40.0</td>\n",
       "      <td>90.0</td>\n",
       "    </tr>\n",
       "    <tr>\n",
       "      <th>adventure_astonish_wondrous_beneath</th>\n",
       "      <td>60.0</td>\n",
       "      <td>96.0</td>\n",
       "    </tr>\n",
       "    <tr>\n",
       "      <th>adventure_aurora_epic</th>\n",
       "      <td>NaN</td>\n",
       "      <td>60.0</td>\n",
       "    </tr>\n",
       "    <tr>\n",
       "      <th>...</th>\n",
       "      <td>...</td>\n",
       "      <td>...</td>\n",
       "    </tr>\n",
       "    <tr>\n",
       "      <th>zephyr_wonder_woman</th>\n",
       "      <td>38.0</td>\n",
       "      <td>97.0</td>\n",
       "    </tr>\n",
       "    <tr>\n",
       "      <th>zephyr_wonder_woman_wonder</th>\n",
       "      <td>95.0</td>\n",
       "      <td>175.0</td>\n",
       "    </tr>\n",
       "    <tr>\n",
       "      <th>zephyr_wondrous</th>\n",
       "      <td>56.0</td>\n",
       "      <td>NaN</td>\n",
       "    </tr>\n",
       "    <tr>\n",
       "      <th>zephyr_wondrous_john_mcclane</th>\n",
       "      <td>NaN</td>\n",
       "      <td>89.0</td>\n",
       "    </tr>\n",
       "    <tr>\n",
       "      <th>zephyr_wondrous_rick_blaine</th>\n",
       "      <td>29.0</td>\n",
       "      <td>110.0</td>\n",
       "    </tr>\n",
       "  </tbody>\n",
       "</table>\n",
       "<p>118186 rows × 2 columns</p>\n",
       "</div>"
      ],
      "text/plain": [
       "                                               audienceScore  runtimeMinutes\n",
       "movieid                                                                     \n",
       "adventure_anakin_skywalker                              49.0            96.0\n",
       "adventure_anakin_skywalker_chronicles_whisper            NaN            90.0\n",
       "adventure_astonish                                      40.0            90.0\n",
       "adventure_astonish_wondrous_beneath                     60.0            96.0\n",
       "adventure_aurora_epic                                    NaN            60.0\n",
       "...                                                      ...             ...\n",
       "zephyr_wonder_woman                                     38.0            97.0\n",
       "zephyr_wonder_woman_wonder                              95.0           175.0\n",
       "zephyr_wondrous                                         56.0             NaN\n",
       "zephyr_wondrous_john_mcclane                             NaN            89.0\n",
       "zephyr_wondrous_rick_blaine                             29.0           110.0\n",
       "\n",
       "[118186 rows x 2 columns]"
      ]
     },
     "execution_count": 11,
     "metadata": {},
     "output_type": "execute_result"
    }
   ],
   "source": [
    "# creating pivot table movied wise taking average audience score and runtime\n",
    "\n",
    "pd.pivot_table(movies_uniq,index = 'movieid',values = ['audienceScore','runtimeMinutes'],aggfunc = np.mean)"
   ]
  },
  {
   "cell_type": "code",
   "execution_count": 12,
   "id": "fbd246ff",
   "metadata": {
    "execution": {
     "iopub.execute_input": "2023-08-13T11:04:49.052851Z",
     "iopub.status.busy": "2023-08-13T11:04:49.052359Z",
     "iopub.status.idle": "2023-08-13T11:04:49.366918Z",
     "shell.execute_reply": "2023-08-13T11:04:49.365500Z"
    },
    "papermill": {
     "duration": 0.34233,
     "end_time": "2023-08-13T11:04:49.369752",
     "exception": false,
     "start_time": "2023-08-13T11:04:49.027422",
     "status": "completed"
    },
    "tags": []
   },
   "outputs": [
    {
     "name": "stdout",
     "output_type": "stream",
     "text": [
      "duplicate rows in train : 1118 \n",
      "\n"
     ]
    },
    {
     "data": {
      "text/html": [
       "<div>\n",
       "<style scoped>\n",
       "    .dataframe tbody tr th:only-of-type {\n",
       "        vertical-align: middle;\n",
       "    }\n",
       "\n",
       "    .dataframe tbody tr th {\n",
       "        vertical-align: top;\n",
       "    }\n",
       "\n",
       "    .dataframe thead th {\n",
       "        text-align: right;\n",
       "    }\n",
       "</style>\n",
       "<table border=\"1\" class=\"dataframe\">\n",
       "  <thead>\n",
       "    <tr style=\"text-align: right;\">\n",
       "      <th></th>\n",
       "      <th>movieid</th>\n",
       "      <th>reviewerName</th>\n",
       "      <th>isFrequentReviewer</th>\n",
       "      <th>reviewText</th>\n",
       "      <th>sentiment</th>\n",
       "    </tr>\n",
       "  </thead>\n",
       "  <tbody>\n",
       "    <tr>\n",
       "      <th>2667</th>\n",
       "      <td>pirate_holly_golightly_marty_mcfly_zephyr</td>\n",
       "      <td>Kristy Ferguson</td>\n",
       "      <td>False</td>\n",
       "      <td>The mixture of the mundane and the poetic in '...</td>\n",
       "      <td>POSITIVE</td>\n",
       "    </tr>\n",
       "    <tr>\n",
       "      <th>4263</th>\n",
       "      <td>dragon_holly_golightly</td>\n",
       "      <td>Zachary Riggs</td>\n",
       "      <td>False</td>\n",
       "      <td>They call documentary which is actually a prop...</td>\n",
       "      <td>POSITIVE</td>\n",
       "    </tr>\n",
       "    <tr>\n",
       "      <th>6499</th>\n",
       "      <td>kingdom_sherlock_holmes_tony_montana_ferris_bu...</td>\n",
       "      <td>Taylor Abbott</td>\n",
       "      <td>False</td>\n",
       "      <td>Shortchanges the courtroom scenes, where the s...</td>\n",
       "      <td>NEGATIVE</td>\n",
       "    </tr>\n",
       "    <tr>\n",
       "      <th>7010</th>\n",
       "      <td>dragon_holly_golightly</td>\n",
       "      <td>Zachary Riggs</td>\n",
       "      <td>False</td>\n",
       "      <td>They call documentary which is actually a prop...</td>\n",
       "      <td>POSITIVE</td>\n",
       "    </tr>\n",
       "    <tr>\n",
       "      <th>7863</th>\n",
       "      <td>hulk_rocky_balboa_hidden_chronicles</td>\n",
       "      <td>Mr. Stanley Martinez</td>\n",
       "      <td>False</td>\n",
       "      <td>While it gets credit for audacity, the film su...</td>\n",
       "      <td>NEGATIVE</td>\n",
       "    </tr>\n",
       "    <tr>\n",
       "      <th>...</th>\n",
       "      <td>...</td>\n",
       "      <td>...</td>\n",
       "      <td>...</td>\n",
       "      <td>...</td>\n",
       "      <td>...</td>\n",
       "    </tr>\n",
       "    <tr>\n",
       "      <th>162421</th>\n",
       "      <td>epic_hulk_marty_mcfly</td>\n",
       "      <td>Larry Patterson</td>\n",
       "      <td>False</td>\n",
       "      <td>This tries to break the mold of the standard r...</td>\n",
       "      <td>NEGATIVE</td>\n",
       "    </tr>\n",
       "    <tr>\n",
       "      <th>162441</th>\n",
       "      <td>marty_mcfly_dorothy_gale_marvelous</td>\n",
       "      <td>Tammy Welch</td>\n",
       "      <td>False</td>\n",
       "      <td>How could such good intentions result in such ...</td>\n",
       "      <td>NEGATIVE</td>\n",
       "    </tr>\n",
       "    <tr>\n",
       "      <th>162451</th>\n",
       "      <td>jon_snow_tony_montana_sherlock_holmes</td>\n",
       "      <td>Carl Vaughan</td>\n",
       "      <td>False</td>\n",
       "      <td>The pleasant surprise is that it's often funny...</td>\n",
       "      <td>POSITIVE</td>\n",
       "    </tr>\n",
       "    <tr>\n",
       "      <th>162489</th>\n",
       "      <td>sorcerer_darth_vader_sapphire_tony_montana</td>\n",
       "      <td>Lauren Dunn</td>\n",
       "      <td>False</td>\n",
       "      <td>The simple conception of the documentary belie...</td>\n",
       "      <td>POSITIVE</td>\n",
       "    </tr>\n",
       "    <tr>\n",
       "      <th>162579</th>\n",
       "      <td>captain_jack_sparrow_destiny_tony_stark_hulk</td>\n",
       "      <td>Sherri Morrison</td>\n",
       "      <td>False</td>\n",
       "      <td>NaN</td>\n",
       "      <td>POSITIVE</td>\n",
       "    </tr>\n",
       "  </tbody>\n",
       "</table>\n",
       "<p>1118 rows × 5 columns</p>\n",
       "</div>"
      ],
      "text/plain": [
       "                                                  movieid  \\\n",
       "2667            pirate_holly_golightly_marty_mcfly_zephyr   \n",
       "4263                               dragon_holly_golightly   \n",
       "6499    kingdom_sherlock_holmes_tony_montana_ferris_bu...   \n",
       "7010                               dragon_holly_golightly   \n",
       "7863                  hulk_rocky_balboa_hidden_chronicles   \n",
       "...                                                   ...   \n",
       "162421                              epic_hulk_marty_mcfly   \n",
       "162441                 marty_mcfly_dorothy_gale_marvelous   \n",
       "162451              jon_snow_tony_montana_sherlock_holmes   \n",
       "162489         sorcerer_darth_vader_sapphire_tony_montana   \n",
       "162579       captain_jack_sparrow_destiny_tony_stark_hulk   \n",
       "\n",
       "                reviewerName  isFrequentReviewer  \\\n",
       "2667         Kristy Ferguson               False   \n",
       "4263           Zachary Riggs               False   \n",
       "6499           Taylor Abbott               False   \n",
       "7010           Zachary Riggs               False   \n",
       "7863    Mr. Stanley Martinez               False   \n",
       "...                      ...                 ...   \n",
       "162421       Larry Patterson               False   \n",
       "162441           Tammy Welch               False   \n",
       "162451          Carl Vaughan               False   \n",
       "162489           Lauren Dunn               False   \n",
       "162579       Sherri Morrison               False   \n",
       "\n",
       "                                               reviewText sentiment  \n",
       "2667    The mixture of the mundane and the poetic in '...  POSITIVE  \n",
       "4263    They call documentary which is actually a prop...  POSITIVE  \n",
       "6499    Shortchanges the courtroom scenes, where the s...  NEGATIVE  \n",
       "7010    They call documentary which is actually a prop...  POSITIVE  \n",
       "7863    While it gets credit for audacity, the film su...  NEGATIVE  \n",
       "...                                                   ...       ...  \n",
       "162421  This tries to break the mold of the standard r...  NEGATIVE  \n",
       "162441  How could such good intentions result in such ...  NEGATIVE  \n",
       "162451  The pleasant surprise is that it's often funny...  POSITIVE  \n",
       "162489  The simple conception of the documentary belie...  POSITIVE  \n",
       "162579                                                NaN  POSITIVE  \n",
       "\n",
       "[1118 rows x 5 columns]"
      ]
     },
     "execution_count": 12,
     "metadata": {},
     "output_type": "execute_result"
    }
   ],
   "source": [
    "# Applying same prosess on train dataset as on movies i.e removing duplicate rows.\n",
    "\n",
    "print('duplicate rows in train :', train.duplicated().sum(),'\\n')\n",
    "train[(train.duplicated())]\n"
   ]
  },
  {
   "cell_type": "code",
   "execution_count": 13,
   "id": "b05cd585",
   "metadata": {
    "execution": {
     "iopub.execute_input": "2023-08-13T11:04:49.419759Z",
     "iopub.status.busy": "2023-08-13T11:04:49.419349Z",
     "iopub.status.idle": "2023-08-13T11:04:49.716050Z",
     "shell.execute_reply": "2023-08-13T11:04:49.714719Z"
    },
    "papermill": {
     "duration": 0.325019,
     "end_time": "2023-08-13T11:04:49.719086",
     "exception": false,
     "start_time": "2023-08-13T11:04:49.394067",
     "status": "completed"
    },
    "tags": []
   },
   "outputs": [
    {
     "data": {
      "text/plain": [
       "0"
      ]
     },
     "execution_count": 13,
     "metadata": {},
     "output_type": "execute_result"
    }
   ],
   "source": [
    "# creating train_uniq from train data after removing duplicate rows except first \n",
    "\n",
    "train_uniq = train.drop_duplicates(keep = 'first', inplace = False)\n",
    "train_uniq.duplicated().sum()"
   ]
  },
  {
   "cell_type": "code",
   "execution_count": 14,
   "id": "838fa1cf",
   "metadata": {
    "execution": {
     "iopub.execute_input": "2023-08-13T11:04:49.770233Z",
     "iopub.status.busy": "2023-08-13T11:04:49.769618Z",
     "iopub.status.idle": "2023-08-13T11:04:49.825029Z",
     "shell.execute_reply": "2023-08-13T11:04:49.823837Z"
    },
    "papermill": {
     "duration": 0.084474,
     "end_time": "2023-08-13T11:04:49.827742",
     "exception": false,
     "start_time": "2023-08-13T11:04:49.743268",
     "status": "completed"
    },
    "tags": []
   },
   "outputs": [
    {
     "name": "stdout",
     "output_type": "stream",
     "text": [
      "total unique rows: 144828 \n",
      "\n"
     ]
    },
    {
     "data": {
      "text/html": [
       "<div>\n",
       "<style scoped>\n",
       "    .dataframe tbody tr th:only-of-type {\n",
       "        vertical-align: middle;\n",
       "    }\n",
       "\n",
       "    .dataframe tbody tr th {\n",
       "        vertical-align: top;\n",
       "    }\n",
       "\n",
       "    .dataframe thead th {\n",
       "        text-align: right;\n",
       "    }\n",
       "</style>\n",
       "<table border=\"1\" class=\"dataframe\">\n",
       "  <thead>\n",
       "    <tr style=\"text-align: right;\">\n",
       "      <th></th>\n",
       "      <th>movieid</th>\n",
       "      <th>reviewerName</th>\n",
       "      <th>isFrequentReviewer</th>\n",
       "      <th>reviewText</th>\n",
       "      <th>sentiment</th>\n",
       "    </tr>\n",
       "  </thead>\n",
       "  <tbody>\n",
       "    <tr>\n",
       "      <th>18985</th>\n",
       "      <td>emerald_oracle_iron_man_wolverine</td>\n",
       "      <td>Danielle Jimenez</td>\n",
       "      <td>False</td>\n",
       "      <td>NaN</td>\n",
       "      <td>NEGATIVE</td>\n",
       "    </tr>\n",
       "    <tr>\n",
       "      <th>80206</th>\n",
       "      <td>emerald_oracle_iron_man_wolverine</td>\n",
       "      <td>Sherri Morrison</td>\n",
       "      <td>True</td>\n",
       "      <td>In this formulaic star vehicle, Schwarzenegger...</td>\n",
       "      <td>NEGATIVE</td>\n",
       "    </tr>\n",
       "    <tr>\n",
       "      <th>111286</th>\n",
       "      <td>emerald_oracle_iron_man_wolverine</td>\n",
       "      <td>Michael Cross</td>\n",
       "      <td>True</td>\n",
       "      <td>Here's Arnie, of all people, playing a bedragg...</td>\n",
       "      <td>POSITIVE</td>\n",
       "    </tr>\n",
       "    <tr>\n",
       "      <th>130119</th>\n",
       "      <td>emerald_oracle_iron_man_wolverine</td>\n",
       "      <td>Daniel Schneider</td>\n",
       "      <td>True</td>\n",
       "      <td>NaN</td>\n",
       "      <td>NEGATIVE</td>\n",
       "    </tr>\n",
       "    <tr>\n",
       "      <th>162756</th>\n",
       "      <td>emerald_oracle_iron_man_wolverine</td>\n",
       "      <td>Erik Parker</td>\n",
       "      <td>False</td>\n",
       "      <td>The film is rescued by a strong third act, but...</td>\n",
       "      <td>NEGATIVE</td>\n",
       "    </tr>\n",
       "  </tbody>\n",
       "</table>\n",
       "</div>"
      ],
      "text/plain": [
       "                                  movieid      reviewerName  \\\n",
       "18985   emerald_oracle_iron_man_wolverine  Danielle Jimenez   \n",
       "80206   emerald_oracle_iron_man_wolverine   Sherri Morrison   \n",
       "111286  emerald_oracle_iron_man_wolverine     Michael Cross   \n",
       "130119  emerald_oracle_iron_man_wolverine  Daniel Schneider   \n",
       "162756  emerald_oracle_iron_man_wolverine       Erik Parker   \n",
       "\n",
       "        isFrequentReviewer                                         reviewText  \\\n",
       "18985                False                                                NaN   \n",
       "80206                 True  In this formulaic star vehicle, Schwarzenegger...   \n",
       "111286                True  Here's Arnie, of all people, playing a bedragg...   \n",
       "130119                True                                                NaN   \n",
       "162756               False  The film is rescued by a strong third act, but...   \n",
       "\n",
       "       sentiment  \n",
       "18985   NEGATIVE  \n",
       "80206   NEGATIVE  \n",
       "111286  POSITIVE  \n",
       "130119  NEGATIVE  \n",
       "162756  NEGATIVE  "
      ]
     },
     "execution_count": 14,
     "metadata": {},
     "output_type": "execute_result"
    }
   ],
   "source": [
    "# total unique movieid row though the movied is same but corresponding col values are different\n",
    "\n",
    "print('total unique rows:',train_uniq.duplicated(['movieid']).sum(),'\\n')\n",
    "train_uniq[train_uniq['movieid']=='emerald_oracle_iron_man_wolverine']"
   ]
  },
  {
   "cell_type": "code",
   "execution_count": 15,
   "id": "3c11cfa9",
   "metadata": {
    "execution": {
     "iopub.execute_input": "2023-08-13T11:04:49.880459Z",
     "iopub.status.busy": "2023-08-13T11:04:49.880032Z",
     "iopub.status.idle": "2023-08-13T11:04:49.936533Z",
     "shell.execute_reply": "2023-08-13T11:04:49.934943Z"
    },
    "papermill": {
     "duration": 0.086438,
     "end_time": "2023-08-13T11:04:49.939302",
     "exception": false,
     "start_time": "2023-08-13T11:04:49.852864",
     "status": "completed"
    },
    "tags": []
   },
   "outputs": [
    {
     "data": {
      "text/plain": [
       "(126404, 14)"
      ]
     },
     "execution_count": 15,
     "metadata": {},
     "output_type": "execute_result"
    }
   ],
   "source": [
    "# remove duplicate movieid from movies_uniq dataset before merging with train_uniq data\n",
    "movie_1 = movies_uniq.drop_duplicates(subset = 'movieid', keep = 'first')\n",
    "\n",
    "# check shape after removing duplicates\n",
    "movie_1.shape"
   ]
  },
  {
   "cell_type": "code",
   "execution_count": 16,
   "id": "478b27be",
   "metadata": {
    "execution": {
     "iopub.execute_input": "2023-08-13T11:04:49.991680Z",
     "iopub.status.busy": "2023-08-13T11:04:49.991272Z",
     "iopub.status.idle": "2023-08-13T11:04:50.293808Z",
     "shell.execute_reply": "2023-08-13T11:04:50.292469Z"
    },
    "papermill": {
     "duration": 0.332555,
     "end_time": "2023-08-13T11:04:50.296558",
     "exception": false,
     "start_time": "2023-08-13T11:04:49.964003",
     "status": "completed"
    },
    "tags": []
   },
   "outputs": [
    {
     "data": {
      "text/plain": [
       "(161640, 18)"
      ]
     },
     "execution_count": 16,
     "metadata": {},
     "output_type": "execute_result"
    }
   ],
   "source": [
    "# exploratory data analysis\n",
    "# merge movies_uniq and train_uniq\n",
    "merged_data = pd.merge(movie_1,train_uniq,on = 'movieid', how = 'inner')\n",
    "merged_data.shape"
   ]
  },
  {
   "cell_type": "code",
   "execution_count": 17,
   "id": "5c3b0ba8",
   "metadata": {
    "execution": {
     "iopub.execute_input": "2023-08-13T11:04:50.349233Z",
     "iopub.status.busy": "2023-08-13T11:04:50.348824Z",
     "iopub.status.idle": "2023-08-13T11:04:50.788616Z",
     "shell.execute_reply": "2023-08-13T11:04:50.787739Z"
    },
    "papermill": {
     "duration": 0.469145,
     "end_time": "2023-08-13T11:04:50.791140",
     "exception": false,
     "start_time": "2023-08-13T11:04:50.321995",
     "status": "completed"
    },
    "tags": []
   },
   "outputs": [
    {
     "data": {
      "image/png": "[encoded data removed]",
      "text/plain": [
       "<Figure size 640x480 with 1 Axes>"
      ]
     },
     "metadata": {},
     "output_type": "display_data"
    }
   ],
   "source": [
    "# visualize possible relation between audience score and sentiments\n",
    "# plotting boxplot using seaborn (to filter outliers)\n",
    "\n",
    "sns.boxplot(x='sentiment', y='audienceScore', data = merged_data)\n",
    "plt.xlabel('Sentiment')\n",
    "plt.ylabel('Audience Score')\n",
    "plt.title('Distribution of Audience Score by Sentiments')\n",
    "plt.show()\n",
    "\n",
    "# movies with positive sentiments have better average audienceScore as comapred to negative sentiments.\n",
    "# this is as expected"
   ]
  },
  {
   "cell_type": "code",
   "execution_count": 18,
   "id": "67937c26",
   "metadata": {
    "execution": {
     "iopub.execute_input": "2023-08-13T11:04:50.844617Z",
     "iopub.status.busy": "2023-08-13T11:04:50.843653Z",
     "iopub.status.idle": "2023-08-13T11:04:51.275513Z",
     "shell.execute_reply": "2023-08-13T11:04:51.273937Z"
    },
    "papermill": {
     "duration": 0.461715,
     "end_time": "2023-08-13T11:04:51.278806",
     "exception": false,
     "start_time": "2023-08-13T11:04:50.817091",
     "status": "completed"
    },
    "tags": []
   },
   "outputs": [
    {
     "data": {
      "image/png": "[encoded data removed]",
      "text/plain": [
       "<Figure size 640x480 with 1 Axes>"
      ]
     },
     "metadata": {},
     "output_type": "display_data"
    }
   ],
   "source": [
    "# checking if movies that have postive sentiment or negative sentiment do not have any significant differenec in runtime.\n",
    "# plotting boxplot using seaborn (to filter outliers)\n",
    "\n",
    "sns.boxplot(x='sentiment', y='runtimeMinutes', data= merged_data)\n",
    "plt.xlabel('Sentiment')\n",
    "plt.ylabel('runtime')\n",
    "plt.title('Distribution of runtime by Sentiments')\n",
    "plt.show()\n",
    "\n",
    "# it can be concluded that runtime Minutes doesn't have any bearing on the sentiment."
   ]
  },
  {
   "cell_type": "markdown",
   "id": "ee2ef33f",
   "metadata": {
    "papermill": {
     "duration": 0.026359,
     "end_time": "2023-08-13T11:04:51.335614",
     "exception": false,
     "start_time": "2023-08-13T11:04:51.309255",
     "status": "completed"
    },
    "tags": []
   },
   "source": [
    "**DATA PREPROCESSING**"
   ]
  },
  {
   "cell_type": "code",
   "execution_count": 19,
   "id": "4359a73f",
   "metadata": {
    "execution": {
     "iopub.execute_input": "2023-08-13T11:04:51.401904Z",
     "iopub.status.busy": "2023-08-13T11:04:51.400931Z",
     "iopub.status.idle": "2023-08-13T11:04:51.618539Z",
     "shell.execute_reply": "2023-08-13T11:04:51.617126Z"
    },
    "papermill": {
     "duration": 0.253798,
     "end_time": "2023-08-13T11:04:51.621687",
     "exception": false,
     "start_time": "2023-08-13T11:04:51.367889",
     "status": "completed"
    },
    "tags": []
   },
   "outputs": [
    {
     "data": {
      "text/plain": [
       "movieid                  0\n",
       "reviewerName             0\n",
       "isFrequentReviewer       0\n",
       "reviewText            6447\n",
       "sentiment                0\n",
       "dtype: int64"
      ]
     },
     "execution_count": 19,
     "metadata": {},
     "output_type": "execute_result"
    }
   ],
   "source": [
    "# My intution is to go with orignal train data to train my models\n",
    "# The problem statement clearly mentions reviewText is quintessential for predicting sentiments\n",
    "# the train data has required columns\n",
    "# checking nulls is original train\n",
    "train.isnull().sum()"
   ]
  },
  {
   "cell_type": "code",
   "execution_count": 20,
   "id": "78bc4a4c",
   "metadata": {
    "execution": {
     "iopub.execute_input": "2023-08-13T11:04:51.676500Z",
     "iopub.status.busy": "2023-08-13T11:04:51.676066Z",
     "iopub.status.idle": "2023-08-13T11:04:52.115584Z",
     "shell.execute_reply": "2023-08-13T11:04:52.114280Z"
    },
    "papermill": {
     "duration": 0.469713,
     "end_time": "2023-08-13T11:04:52.118197",
     "exception": false,
     "start_time": "2023-08-13T11:04:51.648484",
     "status": "completed"
    },
    "tags": []
   },
   "outputs": [
    {
     "name": "stdout",
     "output_type": "stream",
     "text": [
      "checking nulls in train data if any after removing nulls : movieid               0\n",
      "reviewerName          0\n",
      "isFrequentReviewer    0\n",
      "reviewText            0\n",
      "sentiment             0\n",
      "dtype: int64\n"
     ]
    }
   ],
   "source": [
    "# removing nulls from train data\n",
    "train = train.dropna(axis = 0)\n",
    "\n",
    "# rechecking nulls if any after removing\n",
    "\n",
    "print('checking nulls in train data if any after removing nulls :', train.isnull().sum())"
   ]
  },
  {
   "cell_type": "code",
   "execution_count": 21,
   "id": "fb7c12a7",
   "metadata": {
    "execution": {
     "iopub.execute_input": "2023-08-13T11:04:52.176580Z",
     "iopub.status.busy": "2023-08-13T11:04:52.175599Z",
     "iopub.status.idle": "2023-08-13T11:04:52.188240Z",
     "shell.execute_reply": "2023-08-13T11:04:52.187355Z"
    },
    "papermill": {
     "duration": 0.045473,
     "end_time": "2023-08-13T11:04:52.190517",
     "exception": false,
     "start_time": "2023-08-13T11:04:52.145044",
     "status": "completed"
    },
    "tags": []
   },
   "outputs": [
    {
     "data": {
      "text/html": [
       "<div>\n",
       "<style scoped>\n",
       "    .dataframe tbody tr th:only-of-type {\n",
       "        vertical-align: middle;\n",
       "    }\n",
       "\n",
       "    .dataframe tbody tr th {\n",
       "        vertical-align: top;\n",
       "    }\n",
       "\n",
       "    .dataframe thead th {\n",
       "        text-align: right;\n",
       "    }\n",
       "</style>\n",
       "<table border=\"1\" class=\"dataframe\">\n",
       "  <thead>\n",
       "    <tr style=\"text-align: right;\">\n",
       "      <th></th>\n",
       "      <th>movieid</th>\n",
       "      <th>reviewerName</th>\n",
       "      <th>isFrequentReviewer</th>\n",
       "      <th>reviewText</th>\n",
       "      <th>sentiment</th>\n",
       "    </tr>\n",
       "  </thead>\n",
       "  <tbody>\n",
       "    <tr>\n",
       "      <th>0</th>\n",
       "      <td>marvelous_pirate</td>\n",
       "      <td>Benjamin Henry</td>\n",
       "      <td>False</td>\n",
       "      <td>Henry Selick’s first movie since 2009’s Corali...</td>\n",
       "      <td>POSITIVE</td>\n",
       "    </tr>\n",
       "    <tr>\n",
       "      <th>1</th>\n",
       "      <td>tony_montana_frodo_baggins_v_rocky_balboa</td>\n",
       "      <td>Felicia Lopez</td>\n",
       "      <td>False</td>\n",
       "      <td>With a cast that reads like the Vogue Oscar pa...</td>\n",
       "      <td>NEGATIVE</td>\n",
       "    </tr>\n",
       "    <tr>\n",
       "      <th>2</th>\n",
       "      <td>darth_vader_katniss_everdeen_sorcerer_donnie_d...</td>\n",
       "      <td>Mr. Charles Burgess</td>\n",
       "      <td>True</td>\n",
       "      <td>Creed II does not give us anything but another...</td>\n",
       "      <td>POSITIVE</td>\n",
       "    </tr>\n",
       "    <tr>\n",
       "      <th>3</th>\n",
       "      <td>lara_croft_glimmer</td>\n",
       "      <td>Ryan Barrett</td>\n",
       "      <td>False</td>\n",
       "      <td>I know what you're thinking, but this is no Li...</td>\n",
       "      <td>POSITIVE</td>\n",
       "    </tr>\n",
       "    <tr>\n",
       "      <th>4</th>\n",
       "      <td>jason_bourne_surreal_the_terminator_indiana_jones</td>\n",
       "      <td>Alexander Glover</td>\n",
       "      <td>False</td>\n",
       "      <td>Director Fernando Meirelles tells the story wi...</td>\n",
       "      <td>POSITIVE</td>\n",
       "    </tr>\n",
       "  </tbody>\n",
       "</table>\n",
       "</div>"
      ],
      "text/plain": [
       "                                             movieid         reviewerName  \\\n",
       "0                                   marvelous_pirate       Benjamin Henry   \n",
       "1          tony_montana_frodo_baggins_v_rocky_balboa        Felicia Lopez   \n",
       "2  darth_vader_katniss_everdeen_sorcerer_donnie_d...  Mr. Charles Burgess   \n",
       "3                                 lara_croft_glimmer         Ryan Barrett   \n",
       "4  jason_bourne_surreal_the_terminator_indiana_jones     Alexander Glover   \n",
       "\n",
       "   isFrequentReviewer                                         reviewText  \\\n",
       "0               False  Henry Selick’s first movie since 2009’s Corali...   \n",
       "1               False  With a cast that reads like the Vogue Oscar pa...   \n",
       "2                True  Creed II does not give us anything but another...   \n",
       "3               False  I know what you're thinking, but this is no Li...   \n",
       "4               False  Director Fernando Meirelles tells the story wi...   \n",
       "\n",
       "  sentiment  \n",
       "0  POSITIVE  \n",
       "1  NEGATIVE  \n",
       "2  POSITIVE  \n",
       "3  POSITIVE  \n",
       "4  POSITIVE  "
      ]
     },
     "execution_count": 21,
     "metadata": {},
     "output_type": "execute_result"
    }
   ],
   "source": [
    "# checking colums in train data\n",
    "train.head()"
   ]
  },
  {
   "cell_type": "code",
   "execution_count": 22,
   "id": "be818e79",
   "metadata": {
    "execution": {
     "iopub.execute_input": "2023-08-13T11:04:52.246317Z",
     "iopub.status.busy": "2023-08-13T11:04:52.245866Z",
     "iopub.status.idle": "2023-08-13T11:04:52.253243Z",
     "shell.execute_reply": "2023-08-13T11:04:52.251846Z"
    },
    "papermill": {
     "duration": 0.038535,
     "end_time": "2023-08-13T11:04:52.255762",
     "exception": false,
     "start_time": "2023-08-13T11:04:52.217227",
     "status": "completed"
    },
    "tags": []
   },
   "outputs": [
    {
     "name": "stdout",
     "output_type": "stream",
     "text": [
      "train data shape:  (156311, 5)\n",
      "test data shape:  (55315, 4)\n"
     ]
    }
   ],
   "source": [
    "# print shape of train and test data for future purpose\n",
    "print(\"train data shape: \",train.shape)\n",
    "print(\"test data shape: \",test.shape)"
   ]
  },
  {
   "cell_type": "code",
   "execution_count": 23,
   "id": "5d0dd787",
   "metadata": {
    "execution": {
     "iopub.execute_input": "2023-08-13T11:04:52.314918Z",
     "iopub.status.busy": "2023-08-13T11:04:52.314116Z",
     "iopub.status.idle": "2023-08-13T11:04:52.319143Z",
     "shell.execute_reply": "2023-08-13T11:04:52.318168Z"
    },
    "papermill": {
     "duration": 0.039011,
     "end_time": "2023-08-13T11:04:52.321829",
     "exception": false,
     "start_time": "2023-08-13T11:04:52.282818",
     "status": "completed"
    },
    "tags": []
   },
   "outputs": [],
   "source": [
    "# fetching reviewText column from test data and calling it X_test\n",
    "# as we need it for prediction\n",
    "\n",
    "X_test = test.iloc[:,-1]\n",
    "\n"
   ]
  },
  {
   "cell_type": "code",
   "execution_count": 24,
   "id": "a8480ae5",
   "metadata": {
    "execution": {
     "iopub.execute_input": "2023-08-13T11:04:52.380960Z",
     "iopub.status.busy": "2023-08-13T11:04:52.380458Z",
     "iopub.status.idle": "2023-08-13T11:04:52.397231Z",
     "shell.execute_reply": "2023-08-13T11:04:52.395658Z"
    },
    "papermill": {
     "duration": 0.049311,
     "end_time": "2023-08-13T11:04:52.399794",
     "exception": false,
     "start_time": "2023-08-13T11:04:52.350483",
     "status": "completed"
    },
    "tags": []
   },
   "outputs": [
    {
     "name": "stdout",
     "output_type": "stream",
     "text": [
      "(156311, 1)\n",
      "(156311,)\n"
     ]
    },
    {
     "data": {
      "text/html": [
       "<div>\n",
       "<style scoped>\n",
       "    .dataframe tbody tr th:only-of-type {\n",
       "        vertical-align: middle;\n",
       "    }\n",
       "\n",
       "    .dataframe tbody tr th {\n",
       "        vertical-align: top;\n",
       "    }\n",
       "\n",
       "    .dataframe thead th {\n",
       "        text-align: right;\n",
       "    }\n",
       "</style>\n",
       "<table border=\"1\" class=\"dataframe\">\n",
       "  <thead>\n",
       "    <tr style=\"text-align: right;\">\n",
       "      <th></th>\n",
       "      <th>reviewText</th>\n",
       "    </tr>\n",
       "  </thead>\n",
       "  <tbody>\n",
       "    <tr>\n",
       "      <th>0</th>\n",
       "      <td>Henry Selick’s first movie since 2009’s Corali...</td>\n",
       "    </tr>\n",
       "    <tr>\n",
       "      <th>1</th>\n",
       "      <td>With a cast that reads like the Vogue Oscar pa...</td>\n",
       "    </tr>\n",
       "    <tr>\n",
       "      <th>2</th>\n",
       "      <td>Creed II does not give us anything but another...</td>\n",
       "    </tr>\n",
       "    <tr>\n",
       "      <th>3</th>\n",
       "      <td>I know what you're thinking, but this is no Li...</td>\n",
       "    </tr>\n",
       "    <tr>\n",
       "      <th>4</th>\n",
       "      <td>Director Fernando Meirelles tells the story wi...</td>\n",
       "    </tr>\n",
       "  </tbody>\n",
       "</table>\n",
       "</div>"
      ],
      "text/plain": [
       "                                          reviewText\n",
       "0  Henry Selick’s first movie since 2009’s Corali...\n",
       "1  With a cast that reads like the Vogue Oscar pa...\n",
       "2  Creed II does not give us anything but another...\n",
       "3  I know what you're thinking, but this is no Li...\n",
       "4  Director Fernando Meirelles tells the story wi..."
      ]
     },
     "execution_count": 24,
     "metadata": {},
     "output_type": "execute_result"
    }
   ],
   "source": [
    "# slicing train data into features and label columns \n",
    "# X = feature i.e.reviewText\n",
    "# y = labels i.e. sentiments\n",
    "\n",
    "X = train.iloc[:,3:4]\n",
    "y = train['sentiment']\n",
    "print(X.shape)\n",
    "print(y.shape)\n",
    "X.head()"
   ]
  },
  {
   "cell_type": "code",
   "execution_count": 25,
   "id": "b86f0d46",
   "metadata": {
    "execution": {
     "iopub.execute_input": "2023-08-13T11:04:52.458702Z",
     "iopub.status.busy": "2023-08-13T11:04:52.457397Z",
     "iopub.status.idle": "2023-08-13T11:04:52.557119Z",
     "shell.execute_reply": "2023-08-13T11:04:52.555483Z"
    },
    "papermill": {
     "duration": 0.13152,
     "end_time": "2023-08-13T11:04:52.560049",
     "exception": false,
     "start_time": "2023-08-13T11:04:52.428529",
     "status": "completed"
    },
    "tags": []
   },
   "outputs": [
    {
     "name": "stdout",
     "output_type": "stream",
     "text": [
      "0    1\n",
      "1    0\n",
      "2    1\n",
      "3    1\n",
      "4    1\n",
      "dtype: int64\n"
     ]
    }
   ],
   "source": [
    "# encoding sentiments using label encoder\n",
    "\n",
    "from sklearn.preprocessing import LabelEncoder\n",
    "le = LabelEncoder()\n",
    "y_encode = le.fit_transform(y)\n",
    "print(pd.Series(y_encode).head())\n",
    "\n",
    "# positive is 1 and negative as 0."
   ]
  },
  {
   "cell_type": "code",
   "execution_count": 26,
   "id": "ec191ca4",
   "metadata": {
    "execution": {
     "iopub.execute_input": "2023-08-13T11:04:52.617139Z",
     "iopub.status.busy": "2023-08-13T11:04:52.616459Z",
     "iopub.status.idle": "2023-08-13T11:04:52.630087Z",
     "shell.execute_reply": "2023-08-13T11:04:52.628561Z"
    },
    "papermill": {
     "duration": 0.045168,
     "end_time": "2023-08-13T11:04:52.632707",
     "exception": false,
     "start_time": "2023-08-13T11:04:52.587539",
     "status": "completed"
    },
    "tags": []
   },
   "outputs": [
    {
     "name": "stdout",
     "output_type": "stream",
     "text": [
      "1    104719\n",
      "0     51592\n",
      "dtype: int64 \n",
      "\n",
      "1    66.994006\n",
      "0    33.005994\n",
      "dtype: float64\n"
     ]
    }
   ],
   "source": [
    "# checking distribution for sentiments\n",
    "print(pd.Series(y_encode).value_counts(),'\\n')\n",
    "print(pd.Series(y_encode).value_counts(normalize = True)*100)\n",
    "\n",
    "# 2/3 are positive and 1/3 are negative."
   ]
  },
  {
   "cell_type": "code",
   "execution_count": 27,
   "id": "94ab4a9d",
   "metadata": {
    "execution": {
     "iopub.execute_input": "2023-08-13T11:04:52.689578Z",
     "iopub.status.busy": "2023-08-13T11:04:52.689106Z",
     "iopub.status.idle": "2023-08-13T11:04:52.893163Z",
     "shell.execute_reply": "2023-08-13T11:04:52.891202Z"
    },
    "papermill": {
     "duration": 0.236077,
     "end_time": "2023-08-13T11:04:52.896282",
     "exception": false,
     "start_time": "2023-08-13T11:04:52.660205",
     "status": "completed"
    },
    "tags": []
   },
   "outputs": [
    {
     "name": "stdout",
     "output_type": "stream",
     "text": [
      "Axes(0.22375,0.11;0.5775x0.77)\n"
     ]
    },
    {
     "data": {
      "image/png": "[encoded data removed]",
      "text/plain": [
       "<Figure size 640x480 with 1 Axes>"
      ]
     },
     "metadata": {},
     "output_type": "display_data"
    }
   ],
   "source": [
    "# Visualizing the sentiment distribution in our data by plotting a pie chart for y_encode\n",
    "print(pd.Series(y_encode).value_counts(normalize = True).plot.pie())"
   ]
  },
  {
   "cell_type": "code",
   "execution_count": 28,
   "id": "5859723b",
   "metadata": {
    "execution": {
     "iopub.execute_input": "2023-08-13T11:04:52.992406Z",
     "iopub.status.busy": "2023-08-13T11:04:52.991303Z",
     "iopub.status.idle": "2023-08-13T11:04:52.998072Z",
     "shell.execute_reply": "2023-08-13T11:04:52.997074Z"
    },
    "papermill": {
     "duration": 0.04532,
     "end_time": "2023-08-13T11:04:53.000811",
     "exception": false,
     "start_time": "2023-08-13T11:04:52.955491",
     "status": "completed"
    },
    "tags": []
   },
   "outputs": [],
   "source": [
    "#function for preprocessing reviews\n",
    "\n",
    "def review_cleaning(reviews):\n",
    "    if isinstance(reviews,str): #check if element is string\n",
    "        reviews = reviews.lower() # to lower case.\n",
    "        pattern = '[^\\w\\s]'       # pattern to identify punctuations etc.\n",
    "        reviews = re.sub(pattern,'',reviews) # removing punctuations\n",
    "        pattern = '\\w*\\d\\w*'    # pattern to identify digits \n",
    "        reviews = re.sub(pattern,'',reviews) # removing digits\n",
    "    return reviews\n",
    "\n",
    "# removed digits as these are noise in the data for sentiment analysis."
   ]
  },
  {
   "cell_type": "code",
   "execution_count": 29,
   "id": "997cd6dd",
   "metadata": {
    "execution": {
     "iopub.execute_input": "2023-08-13T11:04:53.059520Z",
     "iopub.status.busy": "2023-08-13T11:04:53.058748Z",
     "iopub.status.idle": "2023-08-13T11:04:53.066137Z",
     "shell.execute_reply": "2023-08-13T11:04:53.064997Z"
    },
    "papermill": {
     "duration": 0.03975,
     "end_time": "2023-08-13T11:04:53.068646",
     "exception": false,
     "start_time": "2023-08-13T11:04:53.028896",
     "status": "completed"
    },
    "tags": []
   },
   "outputs": [
    {
     "name": "stdout",
     "output_type": "stream",
     "text": [
      "                                          reviewText\n",
      "0  Henry Selick’s first movie since 2009’s Corali...\n",
      "1  With a cast that reads like the Vogue Oscar pa...\n",
      "2  Creed II does not give us anything but another...\n",
      "3  I know what you're thinking, but this is no Li...\n",
      "4  Director Fernando Meirelles tells the story wi...\n"
     ]
    }
   ],
   "source": [
    "# print X before applying cleaning function\n",
    "print(X.head())\n"
   ]
  },
  {
   "cell_type": "code",
   "execution_count": 30,
   "id": "81cec9a6",
   "metadata": {
    "execution": {
     "iopub.execute_input": "2023-08-13T11:04:53.127391Z",
     "iopub.status.busy": "2023-08-13T11:04:53.126924Z",
     "iopub.status.idle": "2023-08-13T11:04:59.982374Z",
     "shell.execute_reply": "2023-08-13T11:04:59.980943Z"
    },
    "papermill": {
     "duration": 6.888195,
     "end_time": "2023-08-13T11:04:59.985279",
     "exception": false,
     "start_time": "2023-08-13T11:04:53.097084",
     "status": "completed"
    },
    "tags": []
   },
   "outputs": [
    {
     "name": "stdout",
     "output_type": "stream",
     "text": [
      "(156311, 1)\n"
     ]
    },
    {
     "data": {
      "text/html": [
       "<div>\n",
       "<style scoped>\n",
       "    .dataframe tbody tr th:only-of-type {\n",
       "        vertical-align: middle;\n",
       "    }\n",
       "\n",
       "    .dataframe tbody tr th {\n",
       "        vertical-align: top;\n",
       "    }\n",
       "\n",
       "    .dataframe thead th {\n",
       "        text-align: right;\n",
       "    }\n",
       "</style>\n",
       "<table border=\"1\" class=\"dataframe\">\n",
       "  <thead>\n",
       "    <tr style=\"text-align: right;\">\n",
       "      <th></th>\n",
       "      <th>reviewText</th>\n",
       "    </tr>\n",
       "  </thead>\n",
       "  <tbody>\n",
       "    <tr>\n",
       "      <th>0</th>\n",
       "      <td>henry selicks first movie since  coraline his ...</td>\n",
       "    </tr>\n",
       "    <tr>\n",
       "      <th>1</th>\n",
       "      <td>with a cast that reads like the vogue oscar pa...</td>\n",
       "    </tr>\n",
       "    <tr>\n",
       "      <th>2</th>\n",
       "      <td>creed ii does not give us anything but another...</td>\n",
       "    </tr>\n",
       "    <tr>\n",
       "      <th>3</th>\n",
       "      <td>i know what youre thinking but this is no limi...</td>\n",
       "    </tr>\n",
       "    <tr>\n",
       "      <th>4</th>\n",
       "      <td>director fernando meirelles tells the story wi...</td>\n",
       "    </tr>\n",
       "  </tbody>\n",
       "</table>\n",
       "</div>"
      ],
      "text/plain": [
       "                                          reviewText\n",
       "0  henry selicks first movie since  coraline his ...\n",
       "1  with a cast that reads like the vogue oscar pa...\n",
       "2  creed ii does not give us anything but another...\n",
       "3  i know what youre thinking but this is no limi...\n",
       "4  director fernando meirelles tells the story wi..."
      ]
     },
     "execution_count": 30,
     "metadata": {},
     "output_type": "execute_result"
    }
   ],
   "source": [
    "# cleaning the reviews using review_cleaning function\n",
    "X['reviewText'] = X['reviewText'].apply(review_cleaning)\n",
    "print(X.shape)\n",
    "X.head()"
   ]
  },
  {
   "cell_type": "code",
   "execution_count": 31,
   "id": "4153c0ca",
   "metadata": {
    "execution": {
     "iopub.execute_input": "2023-08-13T11:05:00.045677Z",
     "iopub.status.busy": "2023-08-13T11:05:00.044652Z",
     "iopub.status.idle": "2023-08-13T11:05:02.387101Z",
     "shell.execute_reply": "2023-08-13T11:05:02.386062Z"
    },
    "papermill": {
     "duration": 2.375194,
     "end_time": "2023-08-13T11:05:02.389880",
     "exception": false,
     "start_time": "2023-08-13T11:05:00.014686",
     "status": "completed"
    },
    "tags": []
   },
   "outputs": [
    {
     "data": {
      "text/plain": [
       "0    green slowly cranks up the dread with style an...\n",
       "1    philip noyces direction is elegant and unforce...\n",
       "2    it wouldnt do to say what path maria ultimatel...\n",
       "3    pig is not exactly the arthouse john wick that...\n",
       "4    an imaginative nobudget musical of sorts about...\n",
       "Name: reviewText, dtype: object"
      ]
     },
     "execution_count": 31,
     "metadata": {},
     "output_type": "execute_result"
    }
   ],
   "source": [
    "# Similarly cleaning X_test reviews.\n",
    "X_test = X_test.apply(review_cleaning)\n",
    "X_test.head()"
   ]
  },
  {
   "cell_type": "code",
   "execution_count": 32,
   "id": "372e7f0c",
   "metadata": {
    "execution": {
     "iopub.execute_input": "2023-08-13T11:05:02.449517Z",
     "iopub.status.busy": "2023-08-13T11:05:02.448297Z",
     "iopub.status.idle": "2023-08-13T11:05:02.465268Z",
     "shell.execute_reply": "2023-08-13T11:05:02.464165Z"
    },
    "papermill": {
     "duration": 0.049817,
     "end_time": "2023-08-13T11:05:02.468067",
     "exception": false,
     "start_time": "2023-08-13T11:05:02.418250",
     "status": "completed"
    },
    "tags": []
   },
   "outputs": [
    {
     "data": {
      "text/plain": [
       "(55315,)"
      ]
     },
     "execution_count": 32,
     "metadata": {},
     "output_type": "execute_result"
    }
   ],
   "source": [
    "# instead of droppin null values in test data replace all np.nan with empty string as we cann't reduce number pf rows. \n",
    "X_test = X_test.replace(np.nan,'')\n",
    "X_test.shape"
   ]
  },
  {
   "cell_type": "code",
   "execution_count": 33,
   "id": "84fc9846",
   "metadata": {
    "execution": {
     "iopub.execute_input": "2023-08-13T11:05:02.528172Z",
     "iopub.status.busy": "2023-08-13T11:05:02.527752Z",
     "iopub.status.idle": "2023-08-13T11:05:21.262605Z",
     "shell.execute_reply": "2023-08-13T11:05:21.260967Z"
    },
    "papermill": {
     "duration": 18.768338,
     "end_time": "2023-08-13T11:05:21.265280",
     "exception": false,
     "start_time": "2023-08-13T11:05:02.496942",
     "status": "completed"
    },
    "tags": []
   },
   "outputs": [
    {
     "data": {
      "text/plain": [
       "(156311, 1161938)"
      ]
     },
     "execution_count": 33,
     "metadata": {},
     "output_type": "execute_result"
    }
   ],
   "source": [
    "# Applying TfidfVectorizer to process the text data for model building\n",
    "from sklearn.feature_extraction.text import TfidfVectorizer\n",
    "tfidf = TfidfVectorizer(stop_words = ['a','an','the','i'] ,ngram_range = (1,2))\n",
    "X_new = tfidf.fit_transform(X['reviewText'])\n",
    "X_new.shape"
   ]
  },
  {
   "cell_type": "code",
   "execution_count": 34,
   "id": "3aa862d3",
   "metadata": {
    "execution": {
     "iopub.execute_input": "2023-08-13T11:05:21.328857Z",
     "iopub.status.busy": "2023-08-13T11:05:21.327762Z",
     "iopub.status.idle": "2023-08-13T11:05:21.514564Z",
     "shell.execute_reply": "2023-08-13T11:05:21.513278Z"
    },
    "papermill": {
     "duration": 0.222949,
     "end_time": "2023-08-13T11:05:21.517397",
     "exception": false,
     "start_time": "2023-08-13T11:05:21.294448",
     "status": "completed"
    },
    "tags": []
   },
   "outputs": [
    {
     "name": "stdout",
     "output_type": "stream",
     "text": [
      "shape of X_train:  (125048, 1161938)\n",
      "shape of X_valid:  (31263, 1161938)\n",
      "shape of y_train:  (125048,)\n",
      "shape of y_valid:  (31263,)\n"
     ]
    }
   ],
   "source": [
    "# splitting train data into train and validation set using train_test_split.\n",
    "from sklearn.model_selection import train_test_split\n",
    "X_train, X_valid, y_train , y_valid = train_test_split(X_new,y_encode,test_size = 0.2 , random_state = 42)\n",
    "print(\"shape of X_train: \",X_train.shape)\n",
    "print(\"shape of X_valid: \",X_valid.shape)\n",
    "print(\"shape of y_train: \",y_train.shape)\n",
    "print(\"shape of y_valid: \",y_valid.shape)\n"
   ]
  },
  {
   "cell_type": "code",
   "execution_count": 35,
   "id": "4d32f143",
   "metadata": {
    "execution": {
     "iopub.execute_input": "2023-08-13T11:05:21.577750Z",
     "iopub.status.busy": "2023-08-13T11:05:21.576999Z",
     "iopub.status.idle": "2023-08-13T11:05:25.173468Z",
     "shell.execute_reply": "2023-08-13T11:05:25.172173Z"
    },
    "papermill": {
     "duration": 3.629659,
     "end_time": "2023-08-13T11:05:25.176666",
     "exception": false,
     "start_time": "2023-08-13T11:05:21.547007",
     "status": "completed"
    },
    "tags": []
   },
   "outputs": [],
   "source": [
    "# Since data is huge,select best features for the model training purpose by using SelectPercentile\n",
    "# will take percentile = 10 for faster fitting\n",
    "\n",
    "# feature selection\n",
    "from sklearn.feature_selection import SelectPercentile,chi2\n",
    "selector = SelectPercentile(score_func = chi2, percentile = 10)\n",
    "selected_X_train = selector.fit_transform(X_train,y_train)\n",
    "selected_X_test = selector.transform(X_valid)"
   ]
  },
  {
   "cell_type": "code",
   "execution_count": 36,
   "id": "e5303ec8",
   "metadata": {
    "execution": {
     "iopub.execute_input": "2023-08-13T11:05:25.235903Z",
     "iopub.status.busy": "2023-08-13T11:05:25.235449Z",
     "iopub.status.idle": "2023-08-13T11:05:29.212520Z",
     "shell.execute_reply": "2023-08-13T11:05:29.210861Z"
    },
    "papermill": {
     "duration": 4.009911,
     "end_time": "2023-08-13T11:05:29.215243",
     "exception": false,
     "start_time": "2023-08-13T11:05:25.205332",
     "status": "completed"
    },
    "tags": []
   },
   "outputs": [
    {
     "name": "stdout",
     "output_type": "stream",
     "text": [
      "(55315, 1161938)\n",
      "(55315, 116193)\n"
     ]
    }
   ],
   "source": [
    "# creating the document term matrix for X_test.\n",
    "X_test_dtm = tfidf.transform(X_test)\n",
    "print(X_test_dtm.shape)\n",
    "\n",
    "X_test_new = selector.transform(X_test_dtm)\n",
    "print(X_test_new.shape)"
   ]
  },
  {
   "cell_type": "markdown",
   "id": "ffee7a66",
   "metadata": {
    "papermill": {
     "duration": 0.028112,
     "end_time": "2023-08-13T11:05:29.271820",
     "exception": false,
     "start_time": "2023-08-13T11:05:29.243708",
     "status": "completed"
    },
    "tags": []
   },
   "source": [
    "**1.\n",
    "MODEL-1: LOGISTIC REGRESSION**"
   ]
  },
  {
   "cell_type": "code",
   "execution_count": 37,
   "id": "fd8a00f2",
   "metadata": {
    "execution": {
     "iopub.execute_input": "2023-08-13T11:05:29.331045Z",
     "iopub.status.busy": "2023-08-13T11:05:29.330608Z",
     "iopub.status.idle": "2023-08-13T11:05:29.336041Z",
     "shell.execute_reply": "2023-08-13T11:05:29.334663Z"
    },
    "papermill": {
     "duration": 0.038155,
     "end_time": "2023-08-13T11:05:29.338519",
     "exception": false,
     "start_time": "2023-08-13T11:05:29.300364",
     "status": "completed"
    },
    "tags": []
   },
   "outputs": [],
   "source": [
    "# Initialising logistic regression\n",
    "from sklearn.linear_model import LogisticRegression\n",
    "lr = LogisticRegression()\n"
   ]
  },
  {
   "cell_type": "code",
   "execution_count": 38,
   "id": "fed85884",
   "metadata": {
    "execution": {
     "iopub.execute_input": "2023-08-13T11:05:29.400601Z",
     "iopub.status.busy": "2023-08-13T11:05:29.400169Z",
     "iopub.status.idle": "2023-08-13T11:05:29.406089Z",
     "shell.execute_reply": "2023-08-13T11:05:29.404842Z"
    },
    "papermill": {
     "duration": 0.040611,
     "end_time": "2023-08-13T11:05:29.408502",
     "exception": false,
     "start_time": "2023-08-13T11:05:29.367891",
     "status": "completed"
    },
    "tags": []
   },
   "outputs": [],
   "source": [
    "# necessary import for model evaluation.\n",
    "from sklearn import metrics\n",
    "from sklearn.metrics import classification_report,accuracy_score as acc\n",
    "from sklearn.metrics import f1_score as f1,precision_score as prec \n",
    "from sklearn.metrics import recall_score as rec, roc_auc_score as auc\n",
    "\n"
   ]
  },
  {
   "cell_type": "code",
   "execution_count": 39,
   "id": "0843c61e",
   "metadata": {
    "execution": {
     "iopub.execute_input": "2023-08-13T11:05:29.468396Z",
     "iopub.status.busy": "2023-08-13T11:05:29.467539Z",
     "iopub.status.idle": "2023-08-13T11:05:29.474937Z",
     "shell.execute_reply": "2023-08-13T11:05:29.473651Z"
    },
    "papermill": {
     "duration": 0.040055,
     "end_time": "2023-08-13T11:05:29.477297",
     "exception": false,
     "start_time": "2023-08-13T11:05:29.437242",
     "status": "completed"
    },
    "tags": []
   },
   "outputs": [],
   "source": [
    "# defining parameters for hypertuning\n",
    "params = {'solver':['liblinear','sag','saga'],\n",
    "    'C':[0.001,.01,0.1,1,10],\n",
    "    'class_weight': ['None','balanced']\n",
    "         }\n",
    "\n",
    "# intialising GridSearchCV\n",
    "from sklearn.model_selection import GridSearchCV\n",
    "gd = GridSearchCV(estimator = lr,\n",
    "                  param_grid = params,\n",
    "                  verbose = 1,\n",
    "                  cv = 5,\n",
    "                  n_jobs = -1)\n"
   ]
  },
  {
   "cell_type": "code",
   "execution_count": 40,
   "id": "4d8ccfe8",
   "metadata": {
    "execution": {
     "iopub.execute_input": "2023-08-13T11:05:29.539232Z",
     "iopub.status.busy": "2023-08-13T11:05:29.538809Z",
     "iopub.status.idle": "2023-08-13T11:05:29.544394Z",
     "shell.execute_reply": "2023-08-13T11:05:29.543097Z"
    },
    "papermill": {
     "duration": 0.039022,
     "end_time": "2023-08-13T11:05:29.546895",
     "exception": false,
     "start_time": "2023-08-13T11:05:29.507873",
     "status": "completed"
    },
    "tags": []
   },
   "outputs": [],
   "source": [
    "import warnings\n",
    "warnings.filterwarnings('ignore')"
   ]
  },
  {
   "cell_type": "code",
   "execution_count": 41,
   "id": "ed88b2de",
   "metadata": {
    "execution": {
     "iopub.execute_input": "2023-08-13T11:05:29.608331Z",
     "iopub.status.busy": "2023-08-13T11:05:29.607907Z",
     "iopub.status.idle": "2023-08-13T11:06:44.651095Z",
     "shell.execute_reply": "2023-08-13T11:06:44.649442Z"
    },
    "papermill": {
     "duration": 75.103765,
     "end_time": "2023-08-13T11:06:44.680914",
     "exception": false,
     "start_time": "2023-08-13T11:05:29.577149",
     "status": "completed"
    },
    "tags": []
   },
   "outputs": [
    {
     "name": "stdout",
     "output_type": "stream",
     "text": [
      "Fitting 5 folds for each of 30 candidates, totalling 150 fits\n"
     ]
    },
    {
     "data": {
      "text/html": [
       "<style>#sk-container-id-1 {color: black;background-color: white;}#sk-container-id-1 pre{padding: 0;}#sk-container-id-1 div.sk-toggleable {background-color: white;}#sk-container-id-1 label.sk-toggleable__label {cursor: pointer;display: block;width: 100%;margin-bottom: 0;padding: 0.3em;box-sizing: border-box;text-align: center;}#sk-container-id-1 label.sk-toggleable__label-arrow:before {content: \"▸\";float: left;margin-right: 0.25em;color: #696969;}#sk-container-id-1 label.sk-toggleable__label-arrow:hover:before {color: black;}#sk-container-id-1 div.sk-estimator:hover label.sk-toggleable__label-arrow:before {color: black;}#sk-container-id-1 div.sk-toggleable__content {max-height: 0;max-width: 0;overflow: hidden;text-align: left;background-color: #f0f8ff;}#sk-container-id-1 div.sk-toggleable__content pre {margin: 0.2em;color: black;border-radius: 0.25em;background-color: #f0f8ff;}#sk-container-id-1 input.sk-toggleable__control:checked~div.sk-toggleable__content {max-height: 200px;max-width: 100%;overflow: auto;}#sk-container-id-1 input.sk-toggleable__control:checked~label.sk-toggleable__label-arrow:before {content: \"▾\";}#sk-container-id-1 div.sk-estimator input.sk-toggleable__control:checked~label.sk-toggleable__label {background-color: #d4ebff;}#sk-container-id-1 div.sk-label input.sk-toggleable__control:checked~label.sk-toggleable__label {background-color: #d4ebff;}#sk-container-id-1 input.sk-hidden--visually {border: 0;clip: rect(1px 1px 1px 1px);clip: rect(1px, 1px, 1px, 1px);height: 1px;margin: -1px;overflow: hidden;padding: 0;position: absolute;width: 1px;}#sk-container-id-1 div.sk-estimator {font-family: monospace;background-color: #f0f8ff;border: 1px dotted black;border-radius: 0.25em;box-sizing: border-box;margin-bottom: 0.5em;}#sk-container-id-1 div.sk-estimator:hover {background-color: #d4ebff;}#sk-container-id-1 div.sk-parallel-item::after {content: \"\";width: 100%;border-bottom: 1px solid gray;flex-grow: 1;}#sk-container-id-1 div.sk-label:hover label.sk-toggleable__label {background-color: #d4ebff;}#sk-container-id-1 div.sk-serial::before {content: \"\";position: absolute;border-left: 1px solid gray;box-sizing: border-box;top: 0;bottom: 0;left: 50%;z-index: 0;}#sk-container-id-1 div.sk-serial {display: flex;flex-direction: column;align-items: center;background-color: white;padding-right: 0.2em;padding-left: 0.2em;position: relative;}#sk-container-id-1 div.sk-item {position: relative;z-index: 1;}#sk-container-id-1 div.sk-parallel {display: flex;align-items: stretch;justify-content: center;background-color: white;position: relative;}#sk-container-id-1 div.sk-item::before, #sk-container-id-1 div.sk-parallel-item::before {content: \"\";position: absolute;border-left: 1px solid gray;box-sizing: border-box;top: 0;bottom: 0;left: 50%;z-index: -1;}#sk-container-id-1 div.sk-parallel-item {display: flex;flex-direction: column;z-index: 1;position: relative;background-color: white;}#sk-container-id-1 div.sk-parallel-item:first-child::after {align-self: flex-end;width: 50%;}#sk-container-id-1 div.sk-parallel-item:last-child::after {align-self: flex-start;width: 50%;}#sk-container-id-1 div.sk-parallel-item:only-child::after {width: 0;}#sk-container-id-1 div.sk-dashed-wrapped {border: 1px dashed gray;margin: 0 0.4em 0.5em 0.4em;box-sizing: border-box;padding-bottom: 0.4em;background-color: white;}#sk-container-id-1 div.sk-label label {font-family: monospace;font-weight: bold;display: inline-block;line-height: 1.2em;}#sk-container-id-1 div.sk-label-container {text-align: center;}#sk-container-id-1 div.sk-container {/* jupyter's `normalize.less` sets `[hidden] { display: none; }` but bootstrap.min.css set `[hidden] { display: none !important; }` so we also need the `!important` here to be able to override the default hidden behavior on the sphinx rendered scikit-learn.org. See: https://github.com/scikit-learn/scikit-learn/issues/21755 */display: inline-block !important;position: relative;}#sk-container-id-1 div.sk-text-repr-fallback {display: none;}</style><div id=\"sk-container-id-1\" class=\"sk-top-container\"><div class=\"sk-text-repr-fallback\"><pre>GridSearchCV(cv=5, estimator=LogisticRegression(), n_jobs=-1,\n",
       "             param_grid={&#x27;C&#x27;: [0.001, 0.01, 0.1, 1, 10],\n",
       "                         &#x27;class_weight&#x27;: [&#x27;None&#x27;, &#x27;balanced&#x27;],\n",
       "                         &#x27;solver&#x27;: [&#x27;liblinear&#x27;, &#x27;sag&#x27;, &#x27;saga&#x27;]},\n",
       "             verbose=1)</pre><b>In a Jupyter environment, please rerun this cell to show the HTML representation or trust the notebook. <br />On GitHub, the HTML representation is unable to render, please try loading this page with nbviewer.org.</b></div><div class=\"sk-container\" hidden><div class=\"sk-item sk-dashed-wrapped\"><div class=\"sk-label-container\"><div class=\"sk-label sk-toggleable\"><input class=\"sk-toggleable__control sk-hidden--visually\" id=\"sk-estimator-id-1\" type=\"checkbox\" ><label for=\"sk-estimator-id-1\" class=\"sk-toggleable__label sk-toggleable__label-arrow\">GridSearchCV</label><div class=\"sk-toggleable__content\"><pre>GridSearchCV(cv=5, estimator=LogisticRegression(), n_jobs=-1,\n",
       "             param_grid={&#x27;C&#x27;: [0.001, 0.01, 0.1, 1, 10],\n",
       "                         &#x27;class_weight&#x27;: [&#x27;None&#x27;, &#x27;balanced&#x27;],\n",
       "                         &#x27;solver&#x27;: [&#x27;liblinear&#x27;, &#x27;sag&#x27;, &#x27;saga&#x27;]},\n",
       "             verbose=1)</pre></div></div></div><div class=\"sk-parallel\"><div class=\"sk-parallel-item\"><div class=\"sk-item\"><div class=\"sk-label-container\"><div class=\"sk-label sk-toggleable\"><input class=\"sk-toggleable__control sk-hidden--visually\" id=\"sk-estimator-id-2\" type=\"checkbox\" ><label for=\"sk-estimator-id-2\" class=\"sk-toggleable__label sk-toggleable__label-arrow\">estimator: LogisticRegression</label><div class=\"sk-toggleable__content\"><pre>LogisticRegression()</pre></div></div></div><div class=\"sk-serial\"><div class=\"sk-item\"><div class=\"sk-estimator sk-toggleable\"><input class=\"sk-toggleable__control sk-hidden--visually\" id=\"sk-estimator-id-3\" type=\"checkbox\" ><label for=\"sk-estimator-id-3\" class=\"sk-toggleable__label sk-toggleable__label-arrow\">LogisticRegression</label><div class=\"sk-toggleable__content\"><pre>LogisticRegression()</pre></div></div></div></div></div></div></div></div></div></div>"
      ],
      "text/plain": [
       "GridSearchCV(cv=5, estimator=LogisticRegression(), n_jobs=-1,\n",
       "             param_grid={'C': [0.001, 0.01, 0.1, 1, 10],\n",
       "                         'class_weight': ['None', 'balanced'],\n",
       "                         'solver': ['liblinear', 'sag', 'saga']},\n",
       "             verbose=1)"
      ]
     },
     "execution_count": 41,
     "metadata": {},
     "output_type": "execute_result"
    }
   ],
   "source": [
    "# fitting grid search cv on train data\n",
    "gd.fit(selected_X_train,y_train)\n"
   ]
  },
  {
   "cell_type": "code",
   "execution_count": 42,
   "id": "c5fe9566",
   "metadata": {
    "execution": {
     "iopub.execute_input": "2023-08-13T11:06:44.741139Z",
     "iopub.status.busy": "2023-08-13T11:06:44.740586Z",
     "iopub.status.idle": "2023-08-13T11:06:44.748679Z",
     "shell.execute_reply": "2023-08-13T11:06:44.747860Z"
    },
    "papermill": {
     "duration": 0.041215,
     "end_time": "2023-08-13T11:06:44.750889",
     "exception": false,
     "start_time": "2023-08-13T11:06:44.709674",
     "status": "completed"
    },
    "tags": []
   },
   "outputs": [
    {
     "data": {
      "text/html": [
       "<style>#sk-container-id-2 {color: black;background-color: white;}#sk-container-id-2 pre{padding: 0;}#sk-container-id-2 div.sk-toggleable {background-color: white;}#sk-container-id-2 label.sk-toggleable__label {cursor: pointer;display: block;width: 100%;margin-bottom: 0;padding: 0.3em;box-sizing: border-box;text-align: center;}#sk-container-id-2 label.sk-toggleable__label-arrow:before {content: \"▸\";float: left;margin-right: 0.25em;color: #696969;}#sk-container-id-2 label.sk-toggleable__label-arrow:hover:before {color: black;}#sk-container-id-2 div.sk-estimator:hover label.sk-toggleable__label-arrow:before {color: black;}#sk-container-id-2 div.sk-toggleable__content {max-height: 0;max-width: 0;overflow: hidden;text-align: left;background-color: #f0f8ff;}#sk-container-id-2 div.sk-toggleable__content pre {margin: 0.2em;color: black;border-radius: 0.25em;background-color: #f0f8ff;}#sk-container-id-2 input.sk-toggleable__control:checked~div.sk-toggleable__content {max-height: 200px;max-width: 100%;overflow: auto;}#sk-container-id-2 input.sk-toggleable__control:checked~label.sk-toggleable__label-arrow:before {content: \"▾\";}#sk-container-id-2 div.sk-estimator input.sk-toggleable__control:checked~label.sk-toggleable__label {background-color: #d4ebff;}#sk-container-id-2 div.sk-label input.sk-toggleable__control:checked~label.sk-toggleable__label {background-color: #d4ebff;}#sk-container-id-2 input.sk-hidden--visually {border: 0;clip: rect(1px 1px 1px 1px);clip: rect(1px, 1px, 1px, 1px);height: 1px;margin: -1px;overflow: hidden;padding: 0;position: absolute;width: 1px;}#sk-container-id-2 div.sk-estimator {font-family: monospace;background-color: #f0f8ff;border: 1px dotted black;border-radius: 0.25em;box-sizing: border-box;margin-bottom: 0.5em;}#sk-container-id-2 div.sk-estimator:hover {background-color: #d4ebff;}#sk-container-id-2 div.sk-parallel-item::after {content: \"\";width: 100%;border-bottom: 1px solid gray;flex-grow: 1;}#sk-container-id-2 div.sk-label:hover label.sk-toggleable__label {background-color: #d4ebff;}#sk-container-id-2 div.sk-serial::before {content: \"\";position: absolute;border-left: 1px solid gray;box-sizing: border-box;top: 0;bottom: 0;left: 50%;z-index: 0;}#sk-container-id-2 div.sk-serial {display: flex;flex-direction: column;align-items: center;background-color: white;padding-right: 0.2em;padding-left: 0.2em;position: relative;}#sk-container-id-2 div.sk-item {position: relative;z-index: 1;}#sk-container-id-2 div.sk-parallel {display: flex;align-items: stretch;justify-content: center;background-color: white;position: relative;}#sk-container-id-2 div.sk-item::before, #sk-container-id-2 div.sk-parallel-item::before {content: \"\";position: absolute;border-left: 1px solid gray;box-sizing: border-box;top: 0;bottom: 0;left: 50%;z-index: -1;}#sk-container-id-2 div.sk-parallel-item {display: flex;flex-direction: column;z-index: 1;position: relative;background-color: white;}#sk-container-id-2 div.sk-parallel-item:first-child::after {align-self: flex-end;width: 50%;}#sk-container-id-2 div.sk-parallel-item:last-child::after {align-self: flex-start;width: 50%;}#sk-container-id-2 div.sk-parallel-item:only-child::after {width: 0;}#sk-container-id-2 div.sk-dashed-wrapped {border: 1px dashed gray;margin: 0 0.4em 0.5em 0.4em;box-sizing: border-box;padding-bottom: 0.4em;background-color: white;}#sk-container-id-2 div.sk-label label {font-family: monospace;font-weight: bold;display: inline-block;line-height: 1.2em;}#sk-container-id-2 div.sk-label-container {text-align: center;}#sk-container-id-2 div.sk-container {/* jupyter's `normalize.less` sets `[hidden] { display: none; }` but bootstrap.min.css set `[hidden] { display: none !important; }` so we also need the `!important` here to be able to override the default hidden behavior on the sphinx rendered scikit-learn.org. See: https://github.com/scikit-learn/scikit-learn/issues/21755 */display: inline-block !important;position: relative;}#sk-container-id-2 div.sk-text-repr-fallback {display: none;}</style><div id=\"sk-container-id-2\" class=\"sk-top-container\"><div class=\"sk-text-repr-fallback\"><pre>LogisticRegression(C=10, class_weight=&#x27;balanced&#x27;, solver=&#x27;sag&#x27;)</pre><b>In a Jupyter environment, please rerun this cell to show the HTML representation or trust the notebook. <br />On GitHub, the HTML representation is unable to render, please try loading this page with nbviewer.org.</b></div><div class=\"sk-container\" hidden><div class=\"sk-item\"><div class=\"sk-estimator sk-toggleable\"><input class=\"sk-toggleable__control sk-hidden--visually\" id=\"sk-estimator-id-4\" type=\"checkbox\" checked><label for=\"sk-estimator-id-4\" class=\"sk-toggleable__label sk-toggleable__label-arrow\">LogisticRegression</label><div class=\"sk-toggleable__content\"><pre>LogisticRegression(C=10, class_weight=&#x27;balanced&#x27;, solver=&#x27;sag&#x27;)</pre></div></div></div></div></div>"
      ],
      "text/plain": [
       "LogisticRegression(C=10, class_weight='balanced', solver='sag')"
      ]
     },
     "execution_count": 42,
     "metadata": {},
     "output_type": "execute_result"
    }
   ],
   "source": [
    "# finding the best hyper parameters\n",
    "gd.best_estimator_"
   ]
  },
  {
   "cell_type": "code",
   "execution_count": 43,
   "id": "8c7c4b04",
   "metadata": {
    "execution": {
     "iopub.execute_input": "2023-08-13T11:06:44.810581Z",
     "iopub.status.busy": "2023-08-13T11:06:44.810184Z",
     "iopub.status.idle": "2023-08-13T11:06:49.417575Z",
     "shell.execute_reply": "2023-08-13T11:06:49.416361Z"
    },
    "papermill": {
     "duration": 4.640181,
     "end_time": "2023-08-13T11:06:49.420058",
     "exception": false,
     "start_time": "2023-08-13T11:06:44.779877",
     "status": "completed"
    },
    "tags": []
   },
   "outputs": [
    {
     "data": {
      "text/html": [
       "<style>#sk-container-id-3 {color: black;background-color: white;}#sk-container-id-3 pre{padding: 0;}#sk-container-id-3 div.sk-toggleable {background-color: white;}#sk-container-id-3 label.sk-toggleable__label {cursor: pointer;display: block;width: 100%;margin-bottom: 0;padding: 0.3em;box-sizing: border-box;text-align: center;}#sk-container-id-3 label.sk-toggleable__label-arrow:before {content: \"▸\";float: left;margin-right: 0.25em;color: #696969;}#sk-container-id-3 label.sk-toggleable__label-arrow:hover:before {color: black;}#sk-container-id-3 div.sk-estimator:hover label.sk-toggleable__label-arrow:before {color: black;}#sk-container-id-3 div.sk-toggleable__content {max-height: 0;max-width: 0;overflow: hidden;text-align: left;background-color: #f0f8ff;}#sk-container-id-3 div.sk-toggleable__content pre {margin: 0.2em;color: black;border-radius: 0.25em;background-color: #f0f8ff;}#sk-container-id-3 input.sk-toggleable__control:checked~div.sk-toggleable__content {max-height: 200px;max-width: 100%;overflow: auto;}#sk-container-id-3 input.sk-toggleable__control:checked~label.sk-toggleable__label-arrow:before {content: \"▾\";}#sk-container-id-3 div.sk-estimator input.sk-toggleable__control:checked~label.sk-toggleable__label {background-color: #d4ebff;}#sk-container-id-3 div.sk-label input.sk-toggleable__control:checked~label.sk-toggleable__label {background-color: #d4ebff;}#sk-container-id-3 input.sk-hidden--visually {border: 0;clip: rect(1px 1px 1px 1px);clip: rect(1px, 1px, 1px, 1px);height: 1px;margin: -1px;overflow: hidden;padding: 0;position: absolute;width: 1px;}#sk-container-id-3 div.sk-estimator {font-family: monospace;background-color: #f0f8ff;border: 1px dotted black;border-radius: 0.25em;box-sizing: border-box;margin-bottom: 0.5em;}#sk-container-id-3 div.sk-estimator:hover {background-color: #d4ebff;}#sk-container-id-3 div.sk-parallel-item::after {content: \"\";width: 100%;border-bottom: 1px solid gray;flex-grow: 1;}#sk-container-id-3 div.sk-label:hover label.sk-toggleable__label {background-color: #d4ebff;}#sk-container-id-3 div.sk-serial::before {content: \"\";position: absolute;border-left: 1px solid gray;box-sizing: border-box;top: 0;bottom: 0;left: 50%;z-index: 0;}#sk-container-id-3 div.sk-serial {display: flex;flex-direction: column;align-items: center;background-color: white;padding-right: 0.2em;padding-left: 0.2em;position: relative;}#sk-container-id-3 div.sk-item {position: relative;z-index: 1;}#sk-container-id-3 div.sk-parallel {display: flex;align-items: stretch;justify-content: center;background-color: white;position: relative;}#sk-container-id-3 div.sk-item::before, #sk-container-id-3 div.sk-parallel-item::before {content: \"\";position: absolute;border-left: 1px solid gray;box-sizing: border-box;top: 0;bottom: 0;left: 50%;z-index: -1;}#sk-container-id-3 div.sk-parallel-item {display: flex;flex-direction: column;z-index: 1;position: relative;background-color: white;}#sk-container-id-3 div.sk-parallel-item:first-child::after {align-self: flex-end;width: 50%;}#sk-container-id-3 div.sk-parallel-item:last-child::after {align-self: flex-start;width: 50%;}#sk-container-id-3 div.sk-parallel-item:only-child::after {width: 0;}#sk-container-id-3 div.sk-dashed-wrapped {border: 1px dashed gray;margin: 0 0.4em 0.5em 0.4em;box-sizing: border-box;padding-bottom: 0.4em;background-color: white;}#sk-container-id-3 div.sk-label label {font-family: monospace;font-weight: bold;display: inline-block;line-height: 1.2em;}#sk-container-id-3 div.sk-label-container {text-align: center;}#sk-container-id-3 div.sk-container {/* jupyter's `normalize.less` sets `[hidden] { display: none; }` but bootstrap.min.css set `[hidden] { display: none !important; }` so we also need the `!important` here to be able to override the default hidden behavior on the sphinx rendered scikit-learn.org. See: https://github.com/scikit-learn/scikit-learn/issues/21755 */display: inline-block !important;position: relative;}#sk-container-id-3 div.sk-text-repr-fallback {display: none;}</style><div id=\"sk-container-id-3\" class=\"sk-top-container\"><div class=\"sk-text-repr-fallback\"><pre>LogisticRegression(C=10, class_weight=&#x27;balanced&#x27;, solver=&#x27;sag&#x27;)</pre><b>In a Jupyter environment, please rerun this cell to show the HTML representation or trust the notebook. <br />On GitHub, the HTML representation is unable to render, please try loading this page with nbviewer.org.</b></div><div class=\"sk-container\" hidden><div class=\"sk-item\"><div class=\"sk-estimator sk-toggleable\"><input class=\"sk-toggleable__control sk-hidden--visually\" id=\"sk-estimator-id-5\" type=\"checkbox\" checked><label for=\"sk-estimator-id-5\" class=\"sk-toggleable__label sk-toggleable__label-arrow\">LogisticRegression</label><div class=\"sk-toggleable__content\"><pre>LogisticRegression(C=10, class_weight=&#x27;balanced&#x27;, solver=&#x27;sag&#x27;)</pre></div></div></div></div></div>"
      ],
      "text/plain": [
       "LogisticRegression(C=10, class_weight='balanced', solver='sag')"
      ]
     },
     "execution_count": 43,
     "metadata": {},
     "output_type": "execute_result"
    }
   ],
   "source": [
    "lr_best = gd.best_estimator_\n",
    "lr_best.fit(selected_X_train,y_train)"
   ]
  },
  {
   "cell_type": "code",
   "execution_count": 44,
   "id": "522a8012",
   "metadata": {
    "execution": {
     "iopub.execute_input": "2023-08-13T11:06:49.481929Z",
     "iopub.status.busy": "2023-08-13T11:06:49.481114Z",
     "iopub.status.idle": "2023-08-13T11:06:49.553170Z",
     "shell.execute_reply": "2023-08-13T11:06:49.551474Z"
    },
    "papermill": {
     "duration": 0.106391,
     "end_time": "2023-08-13T11:06:49.555992",
     "exception": false,
     "start_time": "2023-08-13T11:06:49.449601",
     "status": "completed"
    },
    "tags": []
   },
   "outputs": [
    {
     "name": "stdout",
     "output_type": "stream",
     "text": [
      "              precision    recall  f1-score   support\n",
      "\n",
      "           0       0.73      0.73      0.73     10148\n",
      "           1       0.87      0.87      0.87     21115\n",
      "\n",
      "    accuracy                           0.83     31263\n",
      "   macro avg       0.80      0.80      0.80     31263\n",
      "weighted avg       0.83      0.83      0.83     31263\n",
      "\n"
     ]
    }
   ],
   "source": [
    "# eavlauting model performance on our validation(test) data, that we kept during train test split.\n",
    "y_pred_best = lr_best.predict(selected_X_test)\n",
    "print(classification_report(y_valid,y_pred_best))"
   ]
  },
  {
   "cell_type": "code",
   "execution_count": 45,
   "id": "7a316410",
   "metadata": {
    "execution": {
     "iopub.execute_input": "2023-08-13T11:06:49.619736Z",
     "iopub.status.busy": "2023-08-13T11:06:49.619303Z",
     "iopub.status.idle": "2023-08-13T11:06:49.696227Z",
     "shell.execute_reply": "2023-08-13T11:06:49.694872Z"
    },
    "papermill": {
     "duration": 0.11333,
     "end_time": "2023-08-13T11:06:49.699008",
     "exception": false,
     "start_time": "2023-08-13T11:06:49.585678",
     "status": "completed"
    },
    "tags": []
   },
   "outputs": [
    {
     "data": {
      "text/html": [
       "<div>\n",
       "<style scoped>\n",
       "    .dataframe tbody tr th:only-of-type {\n",
       "        vertical-align: middle;\n",
       "    }\n",
       "\n",
       "    .dataframe tbody tr th {\n",
       "        vertical-align: top;\n",
       "    }\n",
       "\n",
       "    .dataframe thead th {\n",
       "        text-align: right;\n",
       "    }\n",
       "</style>\n",
       "<table border=\"1\" class=\"dataframe\">\n",
       "  <thead>\n",
       "    <tr style=\"text-align: right;\">\n",
       "      <th></th>\n",
       "      <th>Model Name</th>\n",
       "      <th>Weighted Accuracy</th>\n",
       "      <th>F1 Score</th>\n",
       "      <th>Precision</th>\n",
       "      <th>Recall</th>\n",
       "      <th>ROC_AUC</th>\n",
       "    </tr>\n",
       "  </thead>\n",
       "  <tbody>\n",
       "    <tr>\n",
       "      <th>0</th>\n",
       "      <td>Logistic Regression</td>\n",
       "      <td>0.83</td>\n",
       "      <td>0.87</td>\n",
       "      <td>0.87</td>\n",
       "      <td>0.87</td>\n",
       "      <td>0.8</td>\n",
       "    </tr>\n",
       "  </tbody>\n",
       "</table>\n",
       "</div>"
      ],
      "text/plain": [
       "            Model Name  Weighted Accuracy  F1 Score  Precision  Recall  \\\n",
       "0  Logistic Regression               0.83      0.87       0.87    0.87   \n",
       "\n",
       "   ROC_AUC  \n",
       "0      0.8  "
      ]
     },
     "execution_count": 45,
     "metadata": {},
     "output_type": "execute_result"
    }
   ],
   "source": [
    "# Adding the accuracy metrics for Logistic Regression to the model comparison data frame\n",
    "# code block for comparing accuracies of model in dataframe format\n",
    "\n",
    "logreg_best_accuracy = round(acc(y_valid, y_pred_best),2)\n",
    "logreg_best_f1 = round(f1(y_valid, y_pred_best),2)\n",
    "logreg_best_precision = round(prec(y_valid, y_pred_best),2)\n",
    "logreg_best_recall= round(rec(y_valid, y_pred_best),2)\n",
    "logreg_best_auc = round(auc(y_valid, y_pred_best),2)\n",
    "\n",
    "# adding above metrics to dictionary to add in the model comparision data frame\n",
    "\n",
    "data = {'Model Name': ['Logistic Regression'],\n",
    "       'Weighted Accuracy': [logreg_best_accuracy],\n",
    "       'F1 Score': [logreg_best_f1],\n",
    "       'Precision': [logreg_best_precision],\n",
    "       'Recall': [logreg_best_recall],\n",
    "       'ROC_AUC': [logreg_best_auc]}\n",
    "\n",
    "temp_df = pd.DataFrame.from_dict(data)\n",
    "\n",
    "model_comparison = pd.DataFrame.from_dict(data)\n",
    "model_comparison.head()\n",
    "\n",
    "          "
   ]
  },
  {
   "cell_type": "code",
   "execution_count": 46,
   "id": "408518f5",
   "metadata": {
    "execution": {
     "iopub.execute_input": "2023-08-13T11:06:49.761936Z",
     "iopub.status.busy": "2023-08-13T11:06:49.761506Z",
     "iopub.status.idle": "2023-08-13T11:06:50.041092Z",
     "shell.execute_reply": "2023-08-13T11:06:50.039687Z"
    },
    "papermill": {
     "duration": 0.31433,
     "end_time": "2023-08-13T11:06:50.043843",
     "exception": false,
     "start_time": "2023-08-13T11:06:49.729513",
     "status": "completed"
    },
    "tags": []
   },
   "outputs": [
    {
     "data": {
      "image/png": "[encoded data removed]",
      "text/plain": [
       "<Figure size 640x480 with 1 Axes>"
      ]
     },
     "metadata": {},
     "output_type": "display_data"
    }
   ],
   "source": [
    "# ploting roc-auc curve for logistic regression.\n",
    "\n",
    "y_pred_proba = lr_best.predict_proba(selected_X_test)[:,1]\n",
    "fpr, tpr, _ = metrics.roc_curve(y_valid,  y_pred_proba)\n",
    "\n",
    "#create ROC curve\n",
    "plt.plot(fpr,tpr)\n",
    "plt.ylabel('True Positive Rate')\n",
    "plt.xlabel('False Positive Rate')\n",
    "plt.show()"
   ]
  },
  {
   "cell_type": "code",
   "execution_count": 47,
   "id": "8779a2e7",
   "metadata": {
    "execution": {
     "iopub.execute_input": "2023-08-13T11:06:50.106273Z",
     "iopub.status.busy": "2023-08-13T11:06:50.105871Z",
     "iopub.status.idle": "2023-08-13T11:06:50.115922Z",
     "shell.execute_reply": "2023-08-13T11:06:50.114826Z"
    },
    "papermill": {
     "duration": 0.044015,
     "end_time": "2023-08-13T11:06:50.118531",
     "exception": false,
     "start_time": "2023-08-13T11:06:50.074516",
     "status": "completed"
    },
    "tags": []
   },
   "outputs": [],
   "source": [
    "# applying logistic regression on original test data.\n",
    "y_test_pred = lr_best.predict(X_test_new )\n"
   ]
  },
  {
   "cell_type": "code",
   "execution_count": 48,
   "id": "121cb6eb",
   "metadata": {
    "execution": {
     "iopub.execute_input": "2023-08-13T11:06:50.180855Z",
     "iopub.status.busy": "2023-08-13T11:06:50.180427Z",
     "iopub.status.idle": "2023-08-13T11:06:50.202687Z",
     "shell.execute_reply": "2023-08-13T11:06:50.201437Z"
    },
    "papermill": {
     "duration": 0.056646,
     "end_time": "2023-08-13T11:06:50.205521",
     "exception": false,
     "start_time": "2023-08-13T11:06:50.148875",
     "status": "completed"
    },
    "tags": []
   },
   "outputs": [],
   "source": [
    "# converting output to string\n",
    "y_test_pred = [\"POSITIVE\" if pred == 1 else \"NEGATIVE\" for pred in y_test_pred]\n"
   ]
  },
  {
   "cell_type": "markdown",
   "id": "37ce7b0b",
   "metadata": {
    "papermill": {
     "duration": 0.03029,
     "end_time": "2023-08-13T11:06:50.265921",
     "exception": false,
     "start_time": "2023-08-13T11:06:50.235631",
     "status": "completed"
    },
    "tags": []
   },
   "source": [
    " **2. MODEL-2 : Linear SVC**\n"
   ]
  },
  {
   "cell_type": "code",
   "execution_count": 49,
   "id": "dd792d0c",
   "metadata": {
    "execution": {
     "iopub.execute_input": "2023-08-13T11:06:50.328718Z",
     "iopub.status.busy": "2023-08-13T11:06:50.328269Z",
     "iopub.status.idle": "2023-08-13T11:06:50.333963Z",
     "shell.execute_reply": "2023-08-13T11:06:50.332733Z"
    },
    "papermill": {
     "duration": 0.040295,
     "end_time": "2023-08-13T11:06:50.336187",
     "exception": false,
     "start_time": "2023-08-13T11:06:50.295892",
     "status": "completed"
    },
    "tags": []
   },
   "outputs": [],
   "source": [
    "# intialising Linear SVC\n",
    "from sklearn.svm import LinearSVC\n",
    "svc = LinearSVC()"
   ]
  },
  {
   "cell_type": "code",
   "execution_count": 50,
   "id": "f5ae5bf8",
   "metadata": {
    "execution": {
     "iopub.execute_input": "2023-08-13T11:06:50.401153Z",
     "iopub.status.busy": "2023-08-13T11:06:50.400691Z",
     "iopub.status.idle": "2023-08-13T11:06:50.406759Z",
     "shell.execute_reply": "2023-08-13T11:06:50.405381Z"
    },
    "papermill": {
     "duration": 0.041854,
     "end_time": "2023-08-13T11:06:50.409388",
     "exception": false,
     "start_time": "2023-08-13T11:06:50.367534",
     "status": "completed"
    },
    "tags": []
   },
   "outputs": [],
   "source": [
    "# defining parameters for hypertuning\n",
    "param = {'C': [0.001,0.01,0.1,1.0,10.0],\n",
    "         'loss':['hinge','squared_hinge'],\n",
    "         'class_weight':['balanced'],\n",
    "         'tol':[1e-5,1e-6],\n",
    "        \n",
    "        }"
   ]
  },
  {
   "cell_type": "code",
   "execution_count": 51,
   "id": "5a912078",
   "metadata": {
    "execution": {
     "iopub.execute_input": "2023-08-13T11:06:50.472968Z",
     "iopub.status.busy": "2023-08-13T11:06:50.472537Z",
     "iopub.status.idle": "2023-08-13T11:06:50.477797Z",
     "shell.execute_reply": "2023-08-13T11:06:50.476612Z"
    },
    "papermill": {
     "duration": 0.040374,
     "end_time": "2023-08-13T11:06:50.480032",
     "exception": false,
     "start_time": "2023-08-13T11:06:50.439658",
     "status": "completed"
    },
    "tags": []
   },
   "outputs": [],
   "source": [
    "import warnings\n",
    "warnings.filterwarnings('ignore')"
   ]
  },
  {
   "cell_type": "code",
   "execution_count": 52,
   "id": "e9d8bdf5",
   "metadata": {
    "execution": {
     "iopub.execute_input": "2023-08-13T11:06:50.542168Z",
     "iopub.status.busy": "2023-08-13T11:06:50.541758Z",
     "iopub.status.idle": "2023-08-13T11:09:33.453839Z",
     "shell.execute_reply": "2023-08-13T11:09:33.452527Z"
    },
    "papermill": {
     "duration": 162.978437,
     "end_time": "2023-08-13T11:09:33.488715",
     "exception": false,
     "start_time": "2023-08-13T11:06:50.510278",
     "status": "completed"
    },
    "tags": []
   },
   "outputs": [
    {
     "name": "stdout",
     "output_type": "stream",
     "text": [
      "Fitting 5 folds for each of 20 candidates, totalling 100 fits\n"
     ]
    },
    {
     "name": "stderr",
     "output_type": "stream",
     "text": [
      "/opt/conda/lib/python3.10/site-packages/sklearn/svm/_base.py:1244: ConvergenceWarning: Liblinear failed to converge, increase the number of iterations.\n",
      "  warnings.warn(\n",
      "/opt/conda/lib/python3.10/site-packages/sklearn/svm/_base.py:1244: ConvergenceWarning: Liblinear failed to converge, increase the number of iterations.\n",
      "  warnings.warn(\n",
      "/opt/conda/lib/python3.10/site-packages/sklearn/svm/_base.py:1244: ConvergenceWarning: Liblinear failed to converge, increase the number of iterations.\n",
      "  warnings.warn(\n",
      "/opt/conda/lib/python3.10/site-packages/sklearn/svm/_base.py:1244: ConvergenceWarning: Liblinear failed to converge, increase the number of iterations.\n",
      "  warnings.warn(\n",
      "/opt/conda/lib/python3.10/site-packages/sklearn/svm/_base.py:1244: ConvergenceWarning: Liblinear failed to converge, increase the number of iterations.\n",
      "  warnings.warn(\n",
      "/opt/conda/lib/python3.10/site-packages/sklearn/svm/_base.py:1244: ConvergenceWarning: Liblinear failed to converge, increase the number of iterations.\n",
      "  warnings.warn(\n",
      "/opt/conda/lib/python3.10/site-packages/sklearn/svm/_base.py:1244: ConvergenceWarning: Liblinear failed to converge, increase the number of iterations.\n",
      "  warnings.warn(\n",
      "/opt/conda/lib/python3.10/site-packages/sklearn/svm/_base.py:1244: ConvergenceWarning: Liblinear failed to converge, increase the number of iterations.\n",
      "  warnings.warn(\n",
      "/opt/conda/lib/python3.10/site-packages/sklearn/svm/_base.py:1244: ConvergenceWarning: Liblinear failed to converge, increase the number of iterations.\n",
      "  warnings.warn(\n",
      "/opt/conda/lib/python3.10/site-packages/sklearn/svm/_base.py:1244: ConvergenceWarning: Liblinear failed to converge, increase the number of iterations.\n",
      "  warnings.warn(\n",
      "/opt/conda/lib/python3.10/site-packages/sklearn/svm/_base.py:1244: ConvergenceWarning: Liblinear failed to converge, increase the number of iterations.\n",
      "  warnings.warn(\n",
      "/opt/conda/lib/python3.10/site-packages/sklearn/svm/_base.py:1244: ConvergenceWarning: Liblinear failed to converge, increase the number of iterations.\n",
      "  warnings.warn(\n"
     ]
    },
    {
     "data": {
      "text/html": [
       "<style>#sk-container-id-4 {color: black;background-color: white;}#sk-container-id-4 pre{padding: 0;}#sk-container-id-4 div.sk-toggleable {background-color: white;}#sk-container-id-4 label.sk-toggleable__label {cursor: pointer;display: block;width: 100%;margin-bottom: 0;padding: 0.3em;box-sizing: border-box;text-align: center;}#sk-container-id-4 label.sk-toggleable__label-arrow:before {content: \"▸\";float: left;margin-right: 0.25em;color: #696969;}#sk-container-id-4 label.sk-toggleable__label-arrow:hover:before {color: black;}#sk-container-id-4 div.sk-estimator:hover label.sk-toggleable__label-arrow:before {color: black;}#sk-container-id-4 div.sk-toggleable__content {max-height: 0;max-width: 0;overflow: hidden;text-align: left;background-color: #f0f8ff;}#sk-container-id-4 div.sk-toggleable__content pre {margin: 0.2em;color: black;border-radius: 0.25em;background-color: #f0f8ff;}#sk-container-id-4 input.sk-toggleable__control:checked~div.sk-toggleable__content {max-height: 200px;max-width: 100%;overflow: auto;}#sk-container-id-4 input.sk-toggleable__control:checked~label.sk-toggleable__label-arrow:before {content: \"▾\";}#sk-container-id-4 div.sk-estimator input.sk-toggleable__control:checked~label.sk-toggleable__label {background-color: #d4ebff;}#sk-container-id-4 div.sk-label input.sk-toggleable__control:checked~label.sk-toggleable__label {background-color: #d4ebff;}#sk-container-id-4 input.sk-hidden--visually {border: 0;clip: rect(1px 1px 1px 1px);clip: rect(1px, 1px, 1px, 1px);height: 1px;margin: -1px;overflow: hidden;padding: 0;position: absolute;width: 1px;}#sk-container-id-4 div.sk-estimator {font-family: monospace;background-color: #f0f8ff;border: 1px dotted black;border-radius: 0.25em;box-sizing: border-box;margin-bottom: 0.5em;}#sk-container-id-4 div.sk-estimator:hover {background-color: #d4ebff;}#sk-container-id-4 div.sk-parallel-item::after {content: \"\";width: 100%;border-bottom: 1px solid gray;flex-grow: 1;}#sk-container-id-4 div.sk-label:hover label.sk-toggleable__label {background-color: #d4ebff;}#sk-container-id-4 div.sk-serial::before {content: \"\";position: absolute;border-left: 1px solid gray;box-sizing: border-box;top: 0;bottom: 0;left: 50%;z-index: 0;}#sk-container-id-4 div.sk-serial {display: flex;flex-direction: column;align-items: center;background-color: white;padding-right: 0.2em;padding-left: 0.2em;position: relative;}#sk-container-id-4 div.sk-item {position: relative;z-index: 1;}#sk-container-id-4 div.sk-parallel {display: flex;align-items: stretch;justify-content: center;background-color: white;position: relative;}#sk-container-id-4 div.sk-item::before, #sk-container-id-4 div.sk-parallel-item::before {content: \"\";position: absolute;border-left: 1px solid gray;box-sizing: border-box;top: 0;bottom: 0;left: 50%;z-index: -1;}#sk-container-id-4 div.sk-parallel-item {display: flex;flex-direction: column;z-index: 1;position: relative;background-color: white;}#sk-container-id-4 div.sk-parallel-item:first-child::after {align-self: flex-end;width: 50%;}#sk-container-id-4 div.sk-parallel-item:last-child::after {align-self: flex-start;width: 50%;}#sk-container-id-4 div.sk-parallel-item:only-child::after {width: 0;}#sk-container-id-4 div.sk-dashed-wrapped {border: 1px dashed gray;margin: 0 0.4em 0.5em 0.4em;box-sizing: border-box;padding-bottom: 0.4em;background-color: white;}#sk-container-id-4 div.sk-label label {font-family: monospace;font-weight: bold;display: inline-block;line-height: 1.2em;}#sk-container-id-4 div.sk-label-container {text-align: center;}#sk-container-id-4 div.sk-container {/* jupyter's `normalize.less` sets `[hidden] { display: none; }` but bootstrap.min.css set `[hidden] { display: none !important; }` so we also need the `!important` here to be able to override the default hidden behavior on the sphinx rendered scikit-learn.org. See: https://github.com/scikit-learn/scikit-learn/issues/21755 */display: inline-block !important;position: relative;}#sk-container-id-4 div.sk-text-repr-fallback {display: none;}</style><div id=\"sk-container-id-4\" class=\"sk-top-container\"><div class=\"sk-text-repr-fallback\"><pre>GridSearchCV(cv=5, estimator=LinearSVC(), n_jobs=-1,\n",
       "             param_grid={&#x27;C&#x27;: [0.001, 0.01, 0.1, 1.0, 10.0],\n",
       "                         &#x27;class_weight&#x27;: [&#x27;balanced&#x27;],\n",
       "                         &#x27;loss&#x27;: [&#x27;hinge&#x27;, &#x27;squared_hinge&#x27;],\n",
       "                         &#x27;tol&#x27;: [1e-05, 1e-06]},\n",
       "             verbose=1)</pre><b>In a Jupyter environment, please rerun this cell to show the HTML representation or trust the notebook. <br />On GitHub, the HTML representation is unable to render, please try loading this page with nbviewer.org.</b></div><div class=\"sk-container\" hidden><div class=\"sk-item sk-dashed-wrapped\"><div class=\"sk-label-container\"><div class=\"sk-label sk-toggleable\"><input class=\"sk-toggleable__control sk-hidden--visually\" id=\"sk-estimator-id-6\" type=\"checkbox\" ><label for=\"sk-estimator-id-6\" class=\"sk-toggleable__label sk-toggleable__label-arrow\">GridSearchCV</label><div class=\"sk-toggleable__content\"><pre>GridSearchCV(cv=5, estimator=LinearSVC(), n_jobs=-1,\n",
       "             param_grid={&#x27;C&#x27;: [0.001, 0.01, 0.1, 1.0, 10.0],\n",
       "                         &#x27;class_weight&#x27;: [&#x27;balanced&#x27;],\n",
       "                         &#x27;loss&#x27;: [&#x27;hinge&#x27;, &#x27;squared_hinge&#x27;],\n",
       "                         &#x27;tol&#x27;: [1e-05, 1e-06]},\n",
       "             verbose=1)</pre></div></div></div><div class=\"sk-parallel\"><div class=\"sk-parallel-item\"><div class=\"sk-item\"><div class=\"sk-label-container\"><div class=\"sk-label sk-toggleable\"><input class=\"sk-toggleable__control sk-hidden--visually\" id=\"sk-estimator-id-7\" type=\"checkbox\" ><label for=\"sk-estimator-id-7\" class=\"sk-toggleable__label sk-toggleable__label-arrow\">estimator: LinearSVC</label><div class=\"sk-toggleable__content\"><pre>LinearSVC()</pre></div></div></div><div class=\"sk-serial\"><div class=\"sk-item\"><div class=\"sk-estimator sk-toggleable\"><input class=\"sk-toggleable__control sk-hidden--visually\" id=\"sk-estimator-id-8\" type=\"checkbox\" ><label for=\"sk-estimator-id-8\" class=\"sk-toggleable__label sk-toggleable__label-arrow\">LinearSVC</label><div class=\"sk-toggleable__content\"><pre>LinearSVC()</pre></div></div></div></div></div></div></div></div></div></div>"
      ],
      "text/plain": [
       "GridSearchCV(cv=5, estimator=LinearSVC(), n_jobs=-1,\n",
       "             param_grid={'C': [0.001, 0.01, 0.1, 1.0, 10.0],\n",
       "                         'class_weight': ['balanced'],\n",
       "                         'loss': ['hinge', 'squared_hinge'],\n",
       "                         'tol': [1e-05, 1e-06]},\n",
       "             verbose=1)"
      ]
     },
     "execution_count": 52,
     "metadata": {},
     "output_type": "execute_result"
    }
   ],
   "source": [
    "# initialing GridSearchCV\n",
    "\n",
    "from sklearn.model_selection import GridSearchCV\n",
    "gd = GridSearchCV(estimator = svc,\n",
    "                  param_grid = param,\n",
    "                  verbose = 1,\n",
    "                  cv = 5,\n",
    "                  n_jobs = -1)\n",
    "gd.fit(selected_X_train,y_train)\n",
    "\n"
   ]
  },
  {
   "cell_type": "code",
   "execution_count": 53,
   "id": "9be458ca",
   "metadata": {
    "execution": {
     "iopub.execute_input": "2023-08-13T11:09:33.554621Z",
     "iopub.status.busy": "2023-08-13T11:09:33.554210Z",
     "iopub.status.idle": "2023-08-13T11:09:33.563309Z",
     "shell.execute_reply": "2023-08-13T11:09:33.562002Z"
    },
    "papermill": {
     "duration": 0.045847,
     "end_time": "2023-08-13T11:09:33.565978",
     "exception": false,
     "start_time": "2023-08-13T11:09:33.520131",
     "status": "completed"
    },
    "tags": []
   },
   "outputs": [
    {
     "data": {
      "text/html": [
       "<style>#sk-container-id-5 {color: black;background-color: white;}#sk-container-id-5 pre{padding: 0;}#sk-container-id-5 div.sk-toggleable {background-color: white;}#sk-container-id-5 label.sk-toggleable__label {cursor: pointer;display: block;width: 100%;margin-bottom: 0;padding: 0.3em;box-sizing: border-box;text-align: center;}#sk-container-id-5 label.sk-toggleable__label-arrow:before {content: \"▸\";float: left;margin-right: 0.25em;color: #696969;}#sk-container-id-5 label.sk-toggleable__label-arrow:hover:before {color: black;}#sk-container-id-5 div.sk-estimator:hover label.sk-toggleable__label-arrow:before {color: black;}#sk-container-id-5 div.sk-toggleable__content {max-height: 0;max-width: 0;overflow: hidden;text-align: left;background-color: #f0f8ff;}#sk-container-id-5 div.sk-toggleable__content pre {margin: 0.2em;color: black;border-radius: 0.25em;background-color: #f0f8ff;}#sk-container-id-5 input.sk-toggleable__control:checked~div.sk-toggleable__content {max-height: 200px;max-width: 100%;overflow: auto;}#sk-container-id-5 input.sk-toggleable__control:checked~label.sk-toggleable__label-arrow:before {content: \"▾\";}#sk-container-id-5 div.sk-estimator input.sk-toggleable__control:checked~label.sk-toggleable__label {background-color: #d4ebff;}#sk-container-id-5 div.sk-label input.sk-toggleable__control:checked~label.sk-toggleable__label {background-color: #d4ebff;}#sk-container-id-5 input.sk-hidden--visually {border: 0;clip: rect(1px 1px 1px 1px);clip: rect(1px, 1px, 1px, 1px);height: 1px;margin: -1px;overflow: hidden;padding: 0;position: absolute;width: 1px;}#sk-container-id-5 div.sk-estimator {font-family: monospace;background-color: #f0f8ff;border: 1px dotted black;border-radius: 0.25em;box-sizing: border-box;margin-bottom: 0.5em;}#sk-container-id-5 div.sk-estimator:hover {background-color: #d4ebff;}#sk-container-id-5 div.sk-parallel-item::after {content: \"\";width: 100%;border-bottom: 1px solid gray;flex-grow: 1;}#sk-container-id-5 div.sk-label:hover label.sk-toggleable__label {background-color: #d4ebff;}#sk-container-id-5 div.sk-serial::before {content: \"\";position: absolute;border-left: 1px solid gray;box-sizing: border-box;top: 0;bottom: 0;left: 50%;z-index: 0;}#sk-container-id-5 div.sk-serial {display: flex;flex-direction: column;align-items: center;background-color: white;padding-right: 0.2em;padding-left: 0.2em;position: relative;}#sk-container-id-5 div.sk-item {position: relative;z-index: 1;}#sk-container-id-5 div.sk-parallel {display: flex;align-items: stretch;justify-content: center;background-color: white;position: relative;}#sk-container-id-5 div.sk-item::before, #sk-container-id-5 div.sk-parallel-item::before {content: \"\";position: absolute;border-left: 1px solid gray;box-sizing: border-box;top: 0;bottom: 0;left: 50%;z-index: -1;}#sk-container-id-5 div.sk-parallel-item {display: flex;flex-direction: column;z-index: 1;position: relative;background-color: white;}#sk-container-id-5 div.sk-parallel-item:first-child::after {align-self: flex-end;width: 50%;}#sk-container-id-5 div.sk-parallel-item:last-child::after {align-self: flex-start;width: 50%;}#sk-container-id-5 div.sk-parallel-item:only-child::after {width: 0;}#sk-container-id-5 div.sk-dashed-wrapped {border: 1px dashed gray;margin: 0 0.4em 0.5em 0.4em;box-sizing: border-box;padding-bottom: 0.4em;background-color: white;}#sk-container-id-5 div.sk-label label {font-family: monospace;font-weight: bold;display: inline-block;line-height: 1.2em;}#sk-container-id-5 div.sk-label-container {text-align: center;}#sk-container-id-5 div.sk-container {/* jupyter's `normalize.less` sets `[hidden] { display: none; }` but bootstrap.min.css set `[hidden] { display: none !important; }` so we also need the `!important` here to be able to override the default hidden behavior on the sphinx rendered scikit-learn.org. See: https://github.com/scikit-learn/scikit-learn/issues/21755 */display: inline-block !important;position: relative;}#sk-container-id-5 div.sk-text-repr-fallback {display: none;}</style><div id=\"sk-container-id-5\" class=\"sk-top-container\"><div class=\"sk-text-repr-fallback\"><pre>LinearSVC(class_weight=&#x27;balanced&#x27;, tol=1e-05)</pre><b>In a Jupyter environment, please rerun this cell to show the HTML representation or trust the notebook. <br />On GitHub, the HTML representation is unable to render, please try loading this page with nbviewer.org.</b></div><div class=\"sk-container\" hidden><div class=\"sk-item\"><div class=\"sk-estimator sk-toggleable\"><input class=\"sk-toggleable__control sk-hidden--visually\" id=\"sk-estimator-id-9\" type=\"checkbox\" checked><label for=\"sk-estimator-id-9\" class=\"sk-toggleable__label sk-toggleable__label-arrow\">LinearSVC</label><div class=\"sk-toggleable__content\"><pre>LinearSVC(class_weight=&#x27;balanced&#x27;, tol=1e-05)</pre></div></div></div></div></div>"
      ],
      "text/plain": [
       "LinearSVC(class_weight='balanced', tol=1e-05)"
      ]
     },
     "execution_count": 53,
     "metadata": {},
     "output_type": "execute_result"
    }
   ],
   "source": [
    "# getting best parameters\n",
    "gd.best_estimator_"
   ]
  },
  {
   "cell_type": "code",
   "execution_count": 54,
   "id": "2bd5da52",
   "metadata": {
    "execution": {
     "iopub.execute_input": "2023-08-13T11:09:33.632156Z",
     "iopub.status.busy": "2023-08-13T11:09:33.631712Z",
     "iopub.status.idle": "2023-08-13T11:09:37.196535Z",
     "shell.execute_reply": "2023-08-13T11:09:37.195400Z"
    },
    "papermill": {
     "duration": 3.600516,
     "end_time": "2023-08-13T11:09:37.198982",
     "exception": false,
     "start_time": "2023-08-13T11:09:33.598466",
     "status": "completed"
    },
    "tags": []
   },
   "outputs": [
    {
     "data": {
      "text/html": [
       "<style>#sk-container-id-6 {color: black;background-color: white;}#sk-container-id-6 pre{padding: 0;}#sk-container-id-6 div.sk-toggleable {background-color: white;}#sk-container-id-6 label.sk-toggleable__label {cursor: pointer;display: block;width: 100%;margin-bottom: 0;padding: 0.3em;box-sizing: border-box;text-align: center;}#sk-container-id-6 label.sk-toggleable__label-arrow:before {content: \"▸\";float: left;margin-right: 0.25em;color: #696969;}#sk-container-id-6 label.sk-toggleable__label-arrow:hover:before {color: black;}#sk-container-id-6 div.sk-estimator:hover label.sk-toggleable__label-arrow:before {color: black;}#sk-container-id-6 div.sk-toggleable__content {max-height: 0;max-width: 0;overflow: hidden;text-align: left;background-color: #f0f8ff;}#sk-container-id-6 div.sk-toggleable__content pre {margin: 0.2em;color: black;border-radius: 0.25em;background-color: #f0f8ff;}#sk-container-id-6 input.sk-toggleable__control:checked~div.sk-toggleable__content {max-height: 200px;max-width: 100%;overflow: auto;}#sk-container-id-6 input.sk-toggleable__control:checked~label.sk-toggleable__label-arrow:before {content: \"▾\";}#sk-container-id-6 div.sk-estimator input.sk-toggleable__control:checked~label.sk-toggleable__label {background-color: #d4ebff;}#sk-container-id-6 div.sk-label input.sk-toggleable__control:checked~label.sk-toggleable__label {background-color: #d4ebff;}#sk-container-id-6 input.sk-hidden--visually {border: 0;clip: rect(1px 1px 1px 1px);clip: rect(1px, 1px, 1px, 1px);height: 1px;margin: -1px;overflow: hidden;padding: 0;position: absolute;width: 1px;}#sk-container-id-6 div.sk-estimator {font-family: monospace;background-color: #f0f8ff;border: 1px dotted black;border-radius: 0.25em;box-sizing: border-box;margin-bottom: 0.5em;}#sk-container-id-6 div.sk-estimator:hover {background-color: #d4ebff;}#sk-container-id-6 div.sk-parallel-item::after {content: \"\";width: 100%;border-bottom: 1px solid gray;flex-grow: 1;}#sk-container-id-6 div.sk-label:hover label.sk-toggleable__label {background-color: #d4ebff;}#sk-container-id-6 div.sk-serial::before {content: \"\";position: absolute;border-left: 1px solid gray;box-sizing: border-box;top: 0;bottom: 0;left: 50%;z-index: 0;}#sk-container-id-6 div.sk-serial {display: flex;flex-direction: column;align-items: center;background-color: white;padding-right: 0.2em;padding-left: 0.2em;position: relative;}#sk-container-id-6 div.sk-item {position: relative;z-index: 1;}#sk-container-id-6 div.sk-parallel {display: flex;align-items: stretch;justify-content: center;background-color: white;position: relative;}#sk-container-id-6 div.sk-item::before, #sk-container-id-6 div.sk-parallel-item::before {content: \"\";position: absolute;border-left: 1px solid gray;box-sizing: border-box;top: 0;bottom: 0;left: 50%;z-index: -1;}#sk-container-id-6 div.sk-parallel-item {display: flex;flex-direction: column;z-index: 1;position: relative;background-color: white;}#sk-container-id-6 div.sk-parallel-item:first-child::after {align-self: flex-end;width: 50%;}#sk-container-id-6 div.sk-parallel-item:last-child::after {align-self: flex-start;width: 50%;}#sk-container-id-6 div.sk-parallel-item:only-child::after {width: 0;}#sk-container-id-6 div.sk-dashed-wrapped {border: 1px dashed gray;margin: 0 0.4em 0.5em 0.4em;box-sizing: border-box;padding-bottom: 0.4em;background-color: white;}#sk-container-id-6 div.sk-label label {font-family: monospace;font-weight: bold;display: inline-block;line-height: 1.2em;}#sk-container-id-6 div.sk-label-container {text-align: center;}#sk-container-id-6 div.sk-container {/* jupyter's `normalize.less` sets `[hidden] { display: none; }` but bootstrap.min.css set `[hidden] { display: none !important; }` so we also need the `!important` here to be able to override the default hidden behavior on the sphinx rendered scikit-learn.org. See: https://github.com/scikit-learn/scikit-learn/issues/21755 */display: inline-block !important;position: relative;}#sk-container-id-6 div.sk-text-repr-fallback {display: none;}</style><div id=\"sk-container-id-6\" class=\"sk-top-container\"><div class=\"sk-text-repr-fallback\"><pre>LinearSVC(class_weight=&#x27;balanced&#x27;, tol=1e-05)</pre><b>In a Jupyter environment, please rerun this cell to show the HTML representation or trust the notebook. <br />On GitHub, the HTML representation is unable to render, please try loading this page with nbviewer.org.</b></div><div class=\"sk-container\" hidden><div class=\"sk-item\"><div class=\"sk-estimator sk-toggleable\"><input class=\"sk-toggleable__control sk-hidden--visually\" id=\"sk-estimator-id-10\" type=\"checkbox\" checked><label for=\"sk-estimator-id-10\" class=\"sk-toggleable__label sk-toggleable__label-arrow\">LinearSVC</label><div class=\"sk-toggleable__content\"><pre>LinearSVC(class_weight=&#x27;balanced&#x27;, tol=1e-05)</pre></div></div></div></div></div>"
      ],
      "text/plain": [
       "LinearSVC(class_weight='balanced', tol=1e-05)"
      ]
     },
     "execution_count": 54,
     "metadata": {},
     "output_type": "execute_result"
    }
   ],
   "source": [
    "svc_best = gd.best_estimator_\n",
    "svc_best.fit(selected_X_train,y_train)"
   ]
  },
  {
   "cell_type": "code",
   "execution_count": 55,
   "id": "026182ed",
   "metadata": {
    "execution": {
     "iopub.execute_input": "2023-08-13T11:09:37.264629Z",
     "iopub.status.busy": "2023-08-13T11:09:37.264240Z",
     "iopub.status.idle": "2023-08-13T11:09:37.334662Z",
     "shell.execute_reply": "2023-08-13T11:09:37.333217Z"
    },
    "papermill": {
     "duration": 0.106823,
     "end_time": "2023-08-13T11:09:37.337646",
     "exception": false,
     "start_time": "2023-08-13T11:09:37.230823",
     "status": "completed"
    },
    "tags": []
   },
   "outputs": [
    {
     "name": "stdout",
     "output_type": "stream",
     "text": [
      "              precision    recall  f1-score   support\n",
      "\n",
      "           0       0.74      0.72      0.73     10148\n",
      "           1       0.87      0.88      0.87     21115\n",
      "\n",
      "    accuracy                           0.83     31263\n",
      "   macro avg       0.80      0.80      0.80     31263\n",
      "weighted avg       0.82      0.83      0.82     31263\n",
      "\n"
     ]
    }
   ],
   "source": [
    "# eavlauting model performance on our validation(test) data, that we kept during train test split.\n",
    "y_pred_svc = svc_best.predict(selected_X_test)\n",
    "print(classification_report(y_valid,y_pred_svc))"
   ]
  },
  {
   "cell_type": "code",
   "execution_count": 56,
   "id": "aee35899",
   "metadata": {
    "execution": {
     "iopub.execute_input": "2023-08-13T11:09:37.405205Z",
     "iopub.status.busy": "2023-08-13T11:09:37.404788Z",
     "iopub.status.idle": "2023-08-13T11:09:37.482628Z",
     "shell.execute_reply": "2023-08-13T11:09:37.481330Z"
    },
    "papermill": {
     "duration": 0.114212,
     "end_time": "2023-08-13T11:09:37.485249",
     "exception": false,
     "start_time": "2023-08-13T11:09:37.371037",
     "status": "completed"
    },
    "tags": []
   },
   "outputs": [
    {
     "data": {
      "text/html": [
       "<div>\n",
       "<style scoped>\n",
       "    .dataframe tbody tr th:only-of-type {\n",
       "        vertical-align: middle;\n",
       "    }\n",
       "\n",
       "    .dataframe tbody tr th {\n",
       "        vertical-align: top;\n",
       "    }\n",
       "\n",
       "    .dataframe thead th {\n",
       "        text-align: right;\n",
       "    }\n",
       "</style>\n",
       "<table border=\"1\" class=\"dataframe\">\n",
       "  <thead>\n",
       "    <tr style=\"text-align: right;\">\n",
       "      <th></th>\n",
       "      <th>Model Name</th>\n",
       "      <th>Weighted Accuracy</th>\n",
       "      <th>F1 Score</th>\n",
       "      <th>Precision</th>\n",
       "      <th>Recall</th>\n",
       "      <th>ROC_AUC</th>\n",
       "    </tr>\n",
       "  </thead>\n",
       "  <tbody>\n",
       "    <tr>\n",
       "      <th>0</th>\n",
       "      <td>Logistic Regression</td>\n",
       "      <td>0.83</td>\n",
       "      <td>0.87</td>\n",
       "      <td>0.87</td>\n",
       "      <td>0.87</td>\n",
       "      <td>0.8</td>\n",
       "    </tr>\n",
       "    <tr>\n",
       "      <th>0</th>\n",
       "      <td>Linear SVC</td>\n",
       "      <td>0.83</td>\n",
       "      <td>0.87</td>\n",
       "      <td>0.87</td>\n",
       "      <td>0.88</td>\n",
       "      <td>0.8</td>\n",
       "    </tr>\n",
       "  </tbody>\n",
       "</table>\n",
       "</div>"
      ],
      "text/plain": [
       "            Model Name  Weighted Accuracy  F1 Score  Precision  Recall  \\\n",
       "0  Logistic Regression               0.83      0.87       0.87    0.87   \n",
       "0           Linear SVC               0.83      0.87       0.87    0.88   \n",
       "\n",
       "   ROC_AUC  \n",
       "0      0.8  \n",
       "0      0.8  "
      ]
     },
     "execution_count": 56,
     "metadata": {},
     "output_type": "execute_result"
    }
   ],
   "source": [
    "logreg_best_accuracy = round(acc(y_valid, y_pred_svc),2)\n",
    "logreg_best_f1 = round(f1(y_valid, y_pred_svc),2)\n",
    "logreg_best_precision = round(prec(y_valid,y_pred_svc),2)\n",
    "logreg_best_recall= round(rec(y_valid,y_pred_svc),2)\n",
    "logreg_best_auc = round(auc(y_valid,y_pred_svc),2)\n",
    "\n",
    "# adding above metrics to dictionary to add in the model comparision data frame\n",
    "\n",
    "data = {'Model Name': ['Linear SVC'],\n",
    "       'Weighted Accuracy': [logreg_best_accuracy],\n",
    "       'F1 Score': [logreg_best_f1],\n",
    "       'Precision': [logreg_best_precision],\n",
    "       'Recall': [logreg_best_recall],\n",
    "       'ROC_AUC': [logreg_best_auc]}\n",
    "\n",
    "temp_df = pd.DataFrame.from_dict(data)\n",
    "\n",
    "model_comparison = pd.concat([model_comparison,temp_df],ignore_index = False)\n",
    "model_comparison\n"
   ]
  },
  {
   "cell_type": "code",
   "execution_count": 57,
   "id": "451b7d73",
   "metadata": {
    "execution": {
     "iopub.execute_input": "2023-08-13T11:09:37.554929Z",
     "iopub.status.busy": "2023-08-13T11:09:37.554454Z",
     "iopub.status.idle": "2023-08-13T11:09:37.564839Z",
     "shell.execute_reply": "2023-08-13T11:09:37.563292Z"
    },
    "papermill": {
     "duration": 0.048909,
     "end_time": "2023-08-13T11:09:37.567635",
     "exception": false,
     "start_time": "2023-08-13T11:09:37.518726",
     "status": "completed"
    },
    "tags": []
   },
   "outputs": [],
   "source": [
    "# testing linear svc on test data i.e. X_test_new\n",
    "y_pred_svc = svc_best.predict(X_test_new )\n"
   ]
  },
  {
   "cell_type": "code",
   "execution_count": 58,
   "id": "cf541470",
   "metadata": {
    "execution": {
     "iopub.execute_input": "2023-08-13T11:09:37.635825Z",
     "iopub.status.busy": "2023-08-13T11:09:37.635393Z",
     "iopub.status.idle": "2023-08-13T11:09:37.657734Z",
     "shell.execute_reply": "2023-08-13T11:09:37.656660Z"
    },
    "papermill": {
     "duration": 0.059182,
     "end_time": "2023-08-13T11:09:37.660060",
     "exception": false,
     "start_time": "2023-08-13T11:09:37.600878",
     "status": "completed"
    },
    "tags": []
   },
   "outputs": [],
   "source": [
    "y_pred_svc = [\"POSITIVE\" if pred == 1 else \"NEGATIVE\" for pred in y_pred_svc]"
   ]
  },
  {
   "cell_type": "markdown",
   "id": "f8eb33d2",
   "metadata": {
    "papermill": {
     "duration": 0.032525,
     "end_time": "2023-08-13T11:09:37.725580",
     "exception": false,
     "start_time": "2023-08-13T11:09:37.693055",
     "status": "completed"
    },
    "tags": []
   },
   "source": [
    "**3. MODEL- 3 : PERCEPTRON**\n"
   ]
  },
  {
   "cell_type": "code",
   "execution_count": 59,
   "id": "bdcba47f",
   "metadata": {
    "execution": {
     "iopub.execute_input": "2023-08-13T11:09:37.793116Z",
     "iopub.status.busy": "2023-08-13T11:09:37.792627Z",
     "iopub.status.idle": "2023-08-13T11:09:37.797403Z",
     "shell.execute_reply": "2023-08-13T11:09:37.796437Z"
    },
    "papermill": {
     "duration": 0.041343,
     "end_time": "2023-08-13T11:09:37.799529",
     "exception": false,
     "start_time": "2023-08-13T11:09:37.758186",
     "status": "completed"
    },
    "tags": []
   },
   "outputs": [],
   "source": [
    "# instantiating Perceptron\n",
    "from sklearn.linear_model import Perceptron\n",
    "perceptron = Perceptron()"
   ]
  },
  {
   "cell_type": "code",
   "execution_count": 60,
   "id": "23d90815",
   "metadata": {
    "execution": {
     "iopub.execute_input": "2023-08-13T11:09:37.870195Z",
     "iopub.status.busy": "2023-08-13T11:09:37.869357Z",
     "iopub.status.idle": "2023-08-13T11:09:37.874591Z",
     "shell.execute_reply": "2023-08-13T11:09:37.873784Z"
    },
    "papermill": {
     "duration": 0.042211,
     "end_time": "2023-08-13T11:09:37.876912",
     "exception": false,
     "start_time": "2023-08-13T11:09:37.834701",
     "status": "completed"
    },
    "tags": []
   },
   "outputs": [],
   "source": [
    "# defining parameters for perceptron\n",
    "param_percep = {'penalty':['l2','l1'], \n",
    "             'alpha':[0.0001,0.001,0.1],\n",
    "             'max_iter':[50,100,200,500],\n",
    "            'eta0':[0.001,0.01,0.1]\n",
    "            }"
   ]
  },
  {
   "cell_type": "code",
   "execution_count": 61,
   "id": "3ff380eb",
   "metadata": {
    "execution": {
     "iopub.execute_input": "2023-08-13T11:09:37.944956Z",
     "iopub.status.busy": "2023-08-13T11:09:37.944463Z",
     "iopub.status.idle": "2023-08-13T11:10:16.964228Z",
     "shell.execute_reply": "2023-08-13T11:10:16.962726Z"
    },
    "papermill": {
     "duration": 39.088019,
     "end_time": "2023-08-13T11:10:16.998474",
     "exception": false,
     "start_time": "2023-08-13T11:09:37.910455",
     "status": "completed"
    },
    "tags": []
   },
   "outputs": [
    {
     "name": "stdout",
     "output_type": "stream",
     "text": [
      "Fitting 5 folds for each of 72 candidates, totalling 360 fits\n"
     ]
    },
    {
     "data": {
      "text/html": [
       "<style>#sk-container-id-7 {color: black;background-color: white;}#sk-container-id-7 pre{padding: 0;}#sk-container-id-7 div.sk-toggleable {background-color: white;}#sk-container-id-7 label.sk-toggleable__label {cursor: pointer;display: block;width: 100%;margin-bottom: 0;padding: 0.3em;box-sizing: border-box;text-align: center;}#sk-container-id-7 label.sk-toggleable__label-arrow:before {content: \"▸\";float: left;margin-right: 0.25em;color: #696969;}#sk-container-id-7 label.sk-toggleable__label-arrow:hover:before {color: black;}#sk-container-id-7 div.sk-estimator:hover label.sk-toggleable__label-arrow:before {color: black;}#sk-container-id-7 div.sk-toggleable__content {max-height: 0;max-width: 0;overflow: hidden;text-align: left;background-color: #f0f8ff;}#sk-container-id-7 div.sk-toggleable__content pre {margin: 0.2em;color: black;border-radius: 0.25em;background-color: #f0f8ff;}#sk-container-id-7 input.sk-toggleable__control:checked~div.sk-toggleable__content {max-height: 200px;max-width: 100%;overflow: auto;}#sk-container-id-7 input.sk-toggleable__control:checked~label.sk-toggleable__label-arrow:before {content: \"▾\";}#sk-container-id-7 div.sk-estimator input.sk-toggleable__control:checked~label.sk-toggleable__label {background-color: #d4ebff;}#sk-container-id-7 div.sk-label input.sk-toggleable__control:checked~label.sk-toggleable__label {background-color: #d4ebff;}#sk-container-id-7 input.sk-hidden--visually {border: 0;clip: rect(1px 1px 1px 1px);clip: rect(1px, 1px, 1px, 1px);height: 1px;margin: -1px;overflow: hidden;padding: 0;position: absolute;width: 1px;}#sk-container-id-7 div.sk-estimator {font-family: monospace;background-color: #f0f8ff;border: 1px dotted black;border-radius: 0.25em;box-sizing: border-box;margin-bottom: 0.5em;}#sk-container-id-7 div.sk-estimator:hover {background-color: #d4ebff;}#sk-container-id-7 div.sk-parallel-item::after {content: \"\";width: 100%;border-bottom: 1px solid gray;flex-grow: 1;}#sk-container-id-7 div.sk-label:hover label.sk-toggleable__label {background-color: #d4ebff;}#sk-container-id-7 div.sk-serial::before {content: \"\";position: absolute;border-left: 1px solid gray;box-sizing: border-box;top: 0;bottom: 0;left: 50%;z-index: 0;}#sk-container-id-7 div.sk-serial {display: flex;flex-direction: column;align-items: center;background-color: white;padding-right: 0.2em;padding-left: 0.2em;position: relative;}#sk-container-id-7 div.sk-item {position: relative;z-index: 1;}#sk-container-id-7 div.sk-parallel {display: flex;align-items: stretch;justify-content: center;background-color: white;position: relative;}#sk-container-id-7 div.sk-item::before, #sk-container-id-7 div.sk-parallel-item::before {content: \"\";position: absolute;border-left: 1px solid gray;box-sizing: border-box;top: 0;bottom: 0;left: 50%;z-index: -1;}#sk-container-id-7 div.sk-parallel-item {display: flex;flex-direction: column;z-index: 1;position: relative;background-color: white;}#sk-container-id-7 div.sk-parallel-item:first-child::after {align-self: flex-end;width: 50%;}#sk-container-id-7 div.sk-parallel-item:last-child::after {align-self: flex-start;width: 50%;}#sk-container-id-7 div.sk-parallel-item:only-child::after {width: 0;}#sk-container-id-7 div.sk-dashed-wrapped {border: 1px dashed gray;margin: 0 0.4em 0.5em 0.4em;box-sizing: border-box;padding-bottom: 0.4em;background-color: white;}#sk-container-id-7 div.sk-label label {font-family: monospace;font-weight: bold;display: inline-block;line-height: 1.2em;}#sk-container-id-7 div.sk-label-container {text-align: center;}#sk-container-id-7 div.sk-container {/* jupyter's `normalize.less` sets `[hidden] { display: none; }` but bootstrap.min.css set `[hidden] { display: none !important; }` so we also need the `!important` here to be able to override the default hidden behavior on the sphinx rendered scikit-learn.org. See: https://github.com/scikit-learn/scikit-learn/issues/21755 */display: inline-block !important;position: relative;}#sk-container-id-7 div.sk-text-repr-fallback {display: none;}</style><div id=\"sk-container-id-7\" class=\"sk-top-container\"><div class=\"sk-text-repr-fallback\"><pre>GridSearchCV(cv=5, estimator=Perceptron(), n_jobs=-1,\n",
       "             param_grid={&#x27;alpha&#x27;: [0.0001, 0.001, 0.1],\n",
       "                         &#x27;eta0&#x27;: [0.001, 0.01, 0.1],\n",
       "                         &#x27;max_iter&#x27;: [50, 100, 200, 500],\n",
       "                         &#x27;penalty&#x27;: [&#x27;l2&#x27;, &#x27;l1&#x27;]},\n",
       "             verbose=1)</pre><b>In a Jupyter environment, please rerun this cell to show the HTML representation or trust the notebook. <br />On GitHub, the HTML representation is unable to render, please try loading this page with nbviewer.org.</b></div><div class=\"sk-container\" hidden><div class=\"sk-item sk-dashed-wrapped\"><div class=\"sk-label-container\"><div class=\"sk-label sk-toggleable\"><input class=\"sk-toggleable__control sk-hidden--visually\" id=\"sk-estimator-id-11\" type=\"checkbox\" ><label for=\"sk-estimator-id-11\" class=\"sk-toggleable__label sk-toggleable__label-arrow\">GridSearchCV</label><div class=\"sk-toggleable__content\"><pre>GridSearchCV(cv=5, estimator=Perceptron(), n_jobs=-1,\n",
       "             param_grid={&#x27;alpha&#x27;: [0.0001, 0.001, 0.1],\n",
       "                         &#x27;eta0&#x27;: [0.001, 0.01, 0.1],\n",
       "                         &#x27;max_iter&#x27;: [50, 100, 200, 500],\n",
       "                         &#x27;penalty&#x27;: [&#x27;l2&#x27;, &#x27;l1&#x27;]},\n",
       "             verbose=1)</pre></div></div></div><div class=\"sk-parallel\"><div class=\"sk-parallel-item\"><div class=\"sk-item\"><div class=\"sk-label-container\"><div class=\"sk-label sk-toggleable\"><input class=\"sk-toggleable__control sk-hidden--visually\" id=\"sk-estimator-id-12\" type=\"checkbox\" ><label for=\"sk-estimator-id-12\" class=\"sk-toggleable__label sk-toggleable__label-arrow\">estimator: Perceptron</label><div class=\"sk-toggleable__content\"><pre>Perceptron()</pre></div></div></div><div class=\"sk-serial\"><div class=\"sk-item\"><div class=\"sk-estimator sk-toggleable\"><input class=\"sk-toggleable__control sk-hidden--visually\" id=\"sk-estimator-id-13\" type=\"checkbox\" ><label for=\"sk-estimator-id-13\" class=\"sk-toggleable__label sk-toggleable__label-arrow\">Perceptron</label><div class=\"sk-toggleable__content\"><pre>Perceptron()</pre></div></div></div></div></div></div></div></div></div></div>"
      ],
      "text/plain": [
       "GridSearchCV(cv=5, estimator=Perceptron(), n_jobs=-1,\n",
       "             param_grid={'alpha': [0.0001, 0.001, 0.1],\n",
       "                         'eta0': [0.001, 0.01, 0.1],\n",
       "                         'max_iter': [50, 100, 200, 500],\n",
       "                         'penalty': ['l2', 'l1']},\n",
       "             verbose=1)"
      ]
     },
     "execution_count": 61,
     "metadata": {},
     "output_type": "execute_result"
    }
   ],
   "source": [
    "# initiliasing grid search cv for perceptron\n",
    "gd = GridSearchCV(estimator = perceptron,\n",
    "                  param_grid = param_percep,\n",
    "                  verbose = 1,\n",
    "                  cv = 5,\n",
    "                  n_jobs = -1)\n",
    "gd.fit(selected_X_train,y_train)\n"
   ]
  },
  {
   "cell_type": "code",
   "execution_count": 62,
   "id": "85e46000",
   "metadata": {
    "execution": {
     "iopub.execute_input": "2023-08-13T11:10:17.071496Z",
     "iopub.status.busy": "2023-08-13T11:10:17.070571Z",
     "iopub.status.idle": "2023-08-13T11:10:17.079979Z",
     "shell.execute_reply": "2023-08-13T11:10:17.078718Z"
    },
    "papermill": {
     "duration": 0.049675,
     "end_time": "2023-08-13T11:10:17.082588",
     "exception": false,
     "start_time": "2023-08-13T11:10:17.032913",
     "status": "completed"
    },
    "tags": []
   },
   "outputs": [
    {
     "data": {
      "text/html": [
       "<style>#sk-container-id-8 {color: black;background-color: white;}#sk-container-id-8 pre{padding: 0;}#sk-container-id-8 div.sk-toggleable {background-color: white;}#sk-container-id-8 label.sk-toggleable__label {cursor: pointer;display: block;width: 100%;margin-bottom: 0;padding: 0.3em;box-sizing: border-box;text-align: center;}#sk-container-id-8 label.sk-toggleable__label-arrow:before {content: \"▸\";float: left;margin-right: 0.25em;color: #696969;}#sk-container-id-8 label.sk-toggleable__label-arrow:hover:before {color: black;}#sk-container-id-8 div.sk-estimator:hover label.sk-toggleable__label-arrow:before {color: black;}#sk-container-id-8 div.sk-toggleable__content {max-height: 0;max-width: 0;overflow: hidden;text-align: left;background-color: #f0f8ff;}#sk-container-id-8 div.sk-toggleable__content pre {margin: 0.2em;color: black;border-radius: 0.25em;background-color: #f0f8ff;}#sk-container-id-8 input.sk-toggleable__control:checked~div.sk-toggleable__content {max-height: 200px;max-width: 100%;overflow: auto;}#sk-container-id-8 input.sk-toggleable__control:checked~label.sk-toggleable__label-arrow:before {content: \"▾\";}#sk-container-id-8 div.sk-estimator input.sk-toggleable__control:checked~label.sk-toggleable__label {background-color: #d4ebff;}#sk-container-id-8 div.sk-label input.sk-toggleable__control:checked~label.sk-toggleable__label {background-color: #d4ebff;}#sk-container-id-8 input.sk-hidden--visually {border: 0;clip: rect(1px 1px 1px 1px);clip: rect(1px, 1px, 1px, 1px);height: 1px;margin: -1px;overflow: hidden;padding: 0;position: absolute;width: 1px;}#sk-container-id-8 div.sk-estimator {font-family: monospace;background-color: #f0f8ff;border: 1px dotted black;border-radius: 0.25em;box-sizing: border-box;margin-bottom: 0.5em;}#sk-container-id-8 div.sk-estimator:hover {background-color: #d4ebff;}#sk-container-id-8 div.sk-parallel-item::after {content: \"\";width: 100%;border-bottom: 1px solid gray;flex-grow: 1;}#sk-container-id-8 div.sk-label:hover label.sk-toggleable__label {background-color: #d4ebff;}#sk-container-id-8 div.sk-serial::before {content: \"\";position: absolute;border-left: 1px solid gray;box-sizing: border-box;top: 0;bottom: 0;left: 50%;z-index: 0;}#sk-container-id-8 div.sk-serial {display: flex;flex-direction: column;align-items: center;background-color: white;padding-right: 0.2em;padding-left: 0.2em;position: relative;}#sk-container-id-8 div.sk-item {position: relative;z-index: 1;}#sk-container-id-8 div.sk-parallel {display: flex;align-items: stretch;justify-content: center;background-color: white;position: relative;}#sk-container-id-8 div.sk-item::before, #sk-container-id-8 div.sk-parallel-item::before {content: \"\";position: absolute;border-left: 1px solid gray;box-sizing: border-box;top: 0;bottom: 0;left: 50%;z-index: -1;}#sk-container-id-8 div.sk-parallel-item {display: flex;flex-direction: column;z-index: 1;position: relative;background-color: white;}#sk-container-id-8 div.sk-parallel-item:first-child::after {align-self: flex-end;width: 50%;}#sk-container-id-8 div.sk-parallel-item:last-child::after {align-self: flex-start;width: 50%;}#sk-container-id-8 div.sk-parallel-item:only-child::after {width: 0;}#sk-container-id-8 div.sk-dashed-wrapped {border: 1px dashed gray;margin: 0 0.4em 0.5em 0.4em;box-sizing: border-box;padding-bottom: 0.4em;background-color: white;}#sk-container-id-8 div.sk-label label {font-family: monospace;font-weight: bold;display: inline-block;line-height: 1.2em;}#sk-container-id-8 div.sk-label-container {text-align: center;}#sk-container-id-8 div.sk-container {/* jupyter's `normalize.less` sets `[hidden] { display: none; }` but bootstrap.min.css set `[hidden] { display: none !important; }` so we also need the `!important` here to be able to override the default hidden behavior on the sphinx rendered scikit-learn.org. See: https://github.com/scikit-learn/scikit-learn/issues/21755 */display: inline-block !important;position: relative;}#sk-container-id-8 div.sk-text-repr-fallback {display: none;}</style><div id=\"sk-container-id-8\" class=\"sk-top-container\"><div class=\"sk-text-repr-fallback\"><pre>Perceptron(eta0=0.001, max_iter=50, penalty=&#x27;l2&#x27;)</pre><b>In a Jupyter environment, please rerun this cell to show the HTML representation or trust the notebook. <br />On GitHub, the HTML representation is unable to render, please try loading this page with nbviewer.org.</b></div><div class=\"sk-container\" hidden><div class=\"sk-item\"><div class=\"sk-estimator sk-toggleable\"><input class=\"sk-toggleable__control sk-hidden--visually\" id=\"sk-estimator-id-14\" type=\"checkbox\" checked><label for=\"sk-estimator-id-14\" class=\"sk-toggleable__label sk-toggleable__label-arrow\">Perceptron</label><div class=\"sk-toggleable__content\"><pre>Perceptron(eta0=0.001, max_iter=50, penalty=&#x27;l2&#x27;)</pre></div></div></div></div></div>"
      ],
      "text/plain": [
       "Perceptron(eta0=0.001, max_iter=50, penalty='l2')"
      ]
     },
     "execution_count": 62,
     "metadata": {},
     "output_type": "execute_result"
    }
   ],
   "source": [
    "gd.best_estimator_"
   ]
  },
  {
   "cell_type": "code",
   "execution_count": 63,
   "id": "547a9970",
   "metadata": {
    "execution": {
     "iopub.execute_input": "2023-08-13T11:10:17.151472Z",
     "iopub.status.busy": "2023-08-13T11:10:17.151040Z",
     "iopub.status.idle": "2023-08-13T11:10:17.451887Z",
     "shell.execute_reply": "2023-08-13T11:10:17.450791Z"
    },
    "papermill": {
     "duration": 0.338728,
     "end_time": "2023-08-13T11:10:17.454619",
     "exception": false,
     "start_time": "2023-08-13T11:10:17.115891",
     "status": "completed"
    },
    "tags": []
   },
   "outputs": [
    {
     "data": {
      "text/html": [
       "<style>#sk-container-id-9 {color: black;background-color: white;}#sk-container-id-9 pre{padding: 0;}#sk-container-id-9 div.sk-toggleable {background-color: white;}#sk-container-id-9 label.sk-toggleable__label {cursor: pointer;display: block;width: 100%;margin-bottom: 0;padding: 0.3em;box-sizing: border-box;text-align: center;}#sk-container-id-9 label.sk-toggleable__label-arrow:before {content: \"▸\";float: left;margin-right: 0.25em;color: #696969;}#sk-container-id-9 label.sk-toggleable__label-arrow:hover:before {color: black;}#sk-container-id-9 div.sk-estimator:hover label.sk-toggleable__label-arrow:before {color: black;}#sk-container-id-9 div.sk-toggleable__content {max-height: 0;max-width: 0;overflow: hidden;text-align: left;background-color: #f0f8ff;}#sk-container-id-9 div.sk-toggleable__content pre {margin: 0.2em;color: black;border-radius: 0.25em;background-color: #f0f8ff;}#sk-container-id-9 input.sk-toggleable__control:checked~div.sk-toggleable__content {max-height: 200px;max-width: 100%;overflow: auto;}#sk-container-id-9 input.sk-toggleable__control:checked~label.sk-toggleable__label-arrow:before {content: \"▾\";}#sk-container-id-9 div.sk-estimator input.sk-toggleable__control:checked~label.sk-toggleable__label {background-color: #d4ebff;}#sk-container-id-9 div.sk-label input.sk-toggleable__control:checked~label.sk-toggleable__label {background-color: #d4ebff;}#sk-container-id-9 input.sk-hidden--visually {border: 0;clip: rect(1px 1px 1px 1px);clip: rect(1px, 1px, 1px, 1px);height: 1px;margin: -1px;overflow: hidden;padding: 0;position: absolute;width: 1px;}#sk-container-id-9 div.sk-estimator {font-family: monospace;background-color: #f0f8ff;border: 1px dotted black;border-radius: 0.25em;box-sizing: border-box;margin-bottom: 0.5em;}#sk-container-id-9 div.sk-estimator:hover {background-color: #d4ebff;}#sk-container-id-9 div.sk-parallel-item::after {content: \"\";width: 100%;border-bottom: 1px solid gray;flex-grow: 1;}#sk-container-id-9 div.sk-label:hover label.sk-toggleable__label {background-color: #d4ebff;}#sk-container-id-9 div.sk-serial::before {content: \"\";position: absolute;border-left: 1px solid gray;box-sizing: border-box;top: 0;bottom: 0;left: 50%;z-index: 0;}#sk-container-id-9 div.sk-serial {display: flex;flex-direction: column;align-items: center;background-color: white;padding-right: 0.2em;padding-left: 0.2em;position: relative;}#sk-container-id-9 div.sk-item {position: relative;z-index: 1;}#sk-container-id-9 div.sk-parallel {display: flex;align-items: stretch;justify-content: center;background-color: white;position: relative;}#sk-container-id-9 div.sk-item::before, #sk-container-id-9 div.sk-parallel-item::before {content: \"\";position: absolute;border-left: 1px solid gray;box-sizing: border-box;top: 0;bottom: 0;left: 50%;z-index: -1;}#sk-container-id-9 div.sk-parallel-item {display: flex;flex-direction: column;z-index: 1;position: relative;background-color: white;}#sk-container-id-9 div.sk-parallel-item:first-child::after {align-self: flex-end;width: 50%;}#sk-container-id-9 div.sk-parallel-item:last-child::after {align-self: flex-start;width: 50%;}#sk-container-id-9 div.sk-parallel-item:only-child::after {width: 0;}#sk-container-id-9 div.sk-dashed-wrapped {border: 1px dashed gray;margin: 0 0.4em 0.5em 0.4em;box-sizing: border-box;padding-bottom: 0.4em;background-color: white;}#sk-container-id-9 div.sk-label label {font-family: monospace;font-weight: bold;display: inline-block;line-height: 1.2em;}#sk-container-id-9 div.sk-label-container {text-align: center;}#sk-container-id-9 div.sk-container {/* jupyter's `normalize.less` sets `[hidden] { display: none; }` but bootstrap.min.css set `[hidden] { display: none !important; }` so we also need the `!important` here to be able to override the default hidden behavior on the sphinx rendered scikit-learn.org. See: https://github.com/scikit-learn/scikit-learn/issues/21755 */display: inline-block !important;position: relative;}#sk-container-id-9 div.sk-text-repr-fallback {display: none;}</style><div id=\"sk-container-id-9\" class=\"sk-top-container\"><div class=\"sk-text-repr-fallback\"><pre>Perceptron(eta0=0.001, max_iter=50, penalty=&#x27;l2&#x27;)</pre><b>In a Jupyter environment, please rerun this cell to show the HTML representation or trust the notebook. <br />On GitHub, the HTML representation is unable to render, please try loading this page with nbviewer.org.</b></div><div class=\"sk-container\" hidden><div class=\"sk-item\"><div class=\"sk-estimator sk-toggleable\"><input class=\"sk-toggleable__control sk-hidden--visually\" id=\"sk-estimator-id-15\" type=\"checkbox\" checked><label for=\"sk-estimator-id-15\" class=\"sk-toggleable__label sk-toggleable__label-arrow\">Perceptron</label><div class=\"sk-toggleable__content\"><pre>Perceptron(eta0=0.001, max_iter=50, penalty=&#x27;l2&#x27;)</pre></div></div></div></div></div>"
      ],
      "text/plain": [
       "Perceptron(eta0=0.001, max_iter=50, penalty='l2')"
      ]
     },
     "execution_count": 63,
     "metadata": {},
     "output_type": "execute_result"
    }
   ],
   "source": [
    "perceptron_best = gd.best_estimator_\n",
    "perceptron_best.fit(selected_X_train,y_train)"
   ]
  },
  {
   "cell_type": "code",
   "execution_count": 64,
   "id": "12c8ab62",
   "metadata": {
    "execution": {
     "iopub.execute_input": "2023-08-13T11:10:17.523545Z",
     "iopub.status.busy": "2023-08-13T11:10:17.522436Z",
     "iopub.status.idle": "2023-08-13T11:10:17.594507Z",
     "shell.execute_reply": "2023-08-13T11:10:17.593305Z"
    },
    "papermill": {
     "duration": 0.109485,
     "end_time": "2023-08-13T11:10:17.597354",
     "exception": false,
     "start_time": "2023-08-13T11:10:17.487869",
     "status": "completed"
    },
    "tags": []
   },
   "outputs": [
    {
     "name": "stdout",
     "output_type": "stream",
     "text": [
      "              precision    recall  f1-score   support\n",
      "\n",
      "           0       0.68      0.63      0.65     10148\n",
      "           1       0.83      0.86      0.84     21115\n",
      "\n",
      "    accuracy                           0.78     31263\n",
      "   macro avg       0.75      0.74      0.75     31263\n",
      "weighted avg       0.78      0.78      0.78     31263\n",
      "\n"
     ]
    }
   ],
   "source": [
    "y_pred_percep = perceptron_best.predict(selected_X_test)\n",
    "print(classification_report(y_valid,y_pred_percep))"
   ]
  },
  {
   "cell_type": "code",
   "execution_count": 65,
   "id": "12c6b9ea",
   "metadata": {
    "execution": {
     "iopub.execute_input": "2023-08-13T11:10:17.666460Z",
     "iopub.status.busy": "2023-08-13T11:10:17.665692Z",
     "iopub.status.idle": "2023-08-13T11:10:17.740696Z",
     "shell.execute_reply": "2023-08-13T11:10:17.739490Z"
    },
    "papermill": {
     "duration": 0.112689,
     "end_time": "2023-08-13T11:10:17.743342",
     "exception": false,
     "start_time": "2023-08-13T11:10:17.630653",
     "status": "completed"
    },
    "tags": []
   },
   "outputs": [
    {
     "data": {
      "text/html": [
       "<div>\n",
       "<style scoped>\n",
       "    .dataframe tbody tr th:only-of-type {\n",
       "        vertical-align: middle;\n",
       "    }\n",
       "\n",
       "    .dataframe tbody tr th {\n",
       "        vertical-align: top;\n",
       "    }\n",
       "\n",
       "    .dataframe thead th {\n",
       "        text-align: right;\n",
       "    }\n",
       "</style>\n",
       "<table border=\"1\" class=\"dataframe\">\n",
       "  <thead>\n",
       "    <tr style=\"text-align: right;\">\n",
       "      <th></th>\n",
       "      <th>Model Name</th>\n",
       "      <th>Weighted Accuracy</th>\n",
       "      <th>F1 Score</th>\n",
       "      <th>Precision</th>\n",
       "      <th>Recall</th>\n",
       "      <th>ROC_AUC</th>\n",
       "    </tr>\n",
       "  </thead>\n",
       "  <tbody>\n",
       "    <tr>\n",
       "      <th>0</th>\n",
       "      <td>Logistic Regression</td>\n",
       "      <td>0.83</td>\n",
       "      <td>0.87</td>\n",
       "      <td>0.87</td>\n",
       "      <td>0.87</td>\n",
       "      <td>0.80</td>\n",
       "    </tr>\n",
       "    <tr>\n",
       "      <th>0</th>\n",
       "      <td>Linear SVC</td>\n",
       "      <td>0.83</td>\n",
       "      <td>0.87</td>\n",
       "      <td>0.87</td>\n",
       "      <td>0.88</td>\n",
       "      <td>0.80</td>\n",
       "    </tr>\n",
       "    <tr>\n",
       "      <th>0</th>\n",
       "      <td>Perceptron</td>\n",
       "      <td>0.78</td>\n",
       "      <td>0.84</td>\n",
       "      <td>0.83</td>\n",
       "      <td>0.86</td>\n",
       "      <td>0.74</td>\n",
       "    </tr>\n",
       "  </tbody>\n",
       "</table>\n",
       "</div>"
      ],
      "text/plain": [
       "            Model Name  Weighted Accuracy  F1 Score  Precision  Recall  \\\n",
       "0  Logistic Regression               0.83      0.87       0.87    0.87   \n",
       "0           Linear SVC               0.83      0.87       0.87    0.88   \n",
       "0           Perceptron               0.78      0.84       0.83    0.86   \n",
       "\n",
       "   ROC_AUC  \n",
       "0     0.80  \n",
       "0     0.80  \n",
       "0     0.74  "
      ]
     },
     "execution_count": 65,
     "metadata": {},
     "output_type": "execute_result"
    }
   ],
   "source": [
    "logreg_best_accuracy = round(acc(y_valid,y_pred_percep),2)\n",
    "logreg_best_f1 = round(f1(y_valid,y_pred_percep),2)\n",
    "logreg_best_precision = round(prec(y_valid,y_pred_percep),2)\n",
    "logreg_best_recall= round(rec(y_valid, y_pred_percep),2)\n",
    "logreg_best_auc = round(auc(y_valid, y_pred_percep),2)\n",
    "\n",
    "# adding above metrics to dictionary to add in the model comparision data frame\n",
    "\n",
    "data = {'Model Name': ['Perceptron'],\n",
    "       'Weighted Accuracy': [logreg_best_accuracy],\n",
    "       'F1 Score': [logreg_best_f1],\n",
    "       'Precision': [logreg_best_precision],\n",
    "       'Recall': [logreg_best_recall],\n",
    "       'ROC_AUC': [logreg_best_auc]}\n",
    "\n",
    "temp_df = pd.DataFrame.from_dict(data)\n",
    "\n",
    "model_comparison = pd.concat([model_comparison,temp_df],ignore_index = False)\n",
    "model_comparison\n"
   ]
  },
  {
   "cell_type": "markdown",
   "id": "a6f14284",
   "metadata": {
    "papermill": {
     "duration": 0.033546,
     "end_time": "2023-08-13T11:10:17.811204",
     "exception": false,
     "start_time": "2023-08-13T11:10:17.777658",
     "status": "completed"
    },
    "tags": []
   },
   "source": [
    "### BEST 3 MODEL COMPARISON\n",
    "\n",
    "1. Logistic Regression: is the second best performing model for sentiment prediction with public socre = 0.81719.\n",
    "2. Linear SVC: is the best performing model with public score = 0.81744\n",
    "3. Perceptron, Random Forest Classifier and other models like Decision Tree Classifier and KNN performed poorly. \n",
    "\n",
    "Thus, Linear SVC is my final submission model."
   ]
  },
  {
   "cell_type": "markdown",
   "id": "169571be",
   "metadata": {
    "papermill": {
     "duration": 0.033264,
     "end_time": "2023-08-13T11:10:17.878306",
     "exception": false,
     "start_time": "2023-08-13T11:10:17.845042",
     "status": "completed"
    },
    "tags": []
   },
   "source": [
    "### Final Submission"
   ]
  },
  {
   "cell_type": "code",
   "execution_count": 66,
   "id": "10be08e4",
   "metadata": {
    "execution": {
     "iopub.execute_input": "2023-08-13T11:10:17.948668Z",
     "iopub.status.busy": "2023-08-13T11:10:17.947926Z",
     "iopub.status.idle": "2023-08-13T11:10:18.150268Z",
     "shell.execute_reply": "2023-08-13T11:10:18.149074Z"
    },
    "papermill": {
     "duration": 0.241306,
     "end_time": "2023-08-13T11:10:18.153208",
     "exception": false,
     "start_time": "2023-08-13T11:10:17.911902",
     "status": "completed"
    },
    "tags": []
   },
   "outputs": [],
   "source": [
    "# final submission (svc)\n",
    "\n",
    "sub = pd.DataFrame(y_pred_svc, columns=['sentiment'])\n",
    "sub.index.name = 'id'\n",
    "sub.to_csv(\"submission.csv\", encoding='utf-8')\n",
    "\n",
    "output = pd.read_csv(\"submission.csv\")\n"
   ]
  },
  {
   "cell_type": "markdown",
   "id": "879d70cb",
   "metadata": {
    "papermill": {
     "duration": 0.033744,
     "end_time": "2023-08-13T11:10:18.222723",
     "exception": false,
     "start_time": "2023-08-13T11:10:18.188979",
     "status": "completed"
    },
    "tags": []
   },
   "source": [
    "### ANALYZING RESULT\n",
    "\n",
    " On mergeing movies and train data and after visulisation I found that:\n",
    "1. movies with positive sentiments have better average audienceScore as comapred to negative sentiments.\n",
    "2. movies that have postive sentiment or negative sentime do not have any significant differenec in runtime."
   ]
  }
 ],
 "metadata": {
  "kernelspec": {
   "display_name": "Python 3",
   "language": "python",
   "name": "python3"
  },
  "language_info": {
   "codemirror_mode": {
    "name": "ipython",
    "version": 3
   },
   "file_extension": ".py",
   "mimetype": "text/x-python",
   "name": "python",
   "nbconvert_exporter": "python",
   "pygments_lexer": "ipython3",
   "version": "3.10.10"
  },
  "papermill": {
   "default_parameters": {},
   "duration": 355.082687,
   "end_time": "2023-08-13T11:10:20.881461",
   "environment_variables": {},
   "exception": null,
   "input_path": "__notebook__.ipynb",
   "output_path": "__notebook__.ipynb",
   "parameters": {},
   "start_time": "2023-08-13T11:04:25.798774",
   "version": "2.4.0"
  }
 },
 "nbformat": 4,
 "nbformat_minor": 5
}
